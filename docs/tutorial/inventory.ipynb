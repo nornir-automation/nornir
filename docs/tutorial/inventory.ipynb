{
 "cells": [
  {
   "cell_type": "code",
   "execution_count": 1,
   "metadata": {
    "nbsphinx": "hidden"
   },
   "outputs": [],
   "source": [
    "# ignore this cell, this is just a helper cell to provide the magic %highlight_file\n",
    "%run ../highlighter.py"
   ]
  },
  {
   "cell_type": "markdown",
   "metadata": {},
   "source": [
    "## Inventory\n",
    "\n",
    "The Inventory is arguably the most important piece of nornir. Let's see how it works. To begin with the [inventory](../api/nornir/core/inventory.html#module-nornir.core.inventory) is comprised of [hosts](../api/nornir/core/inventory.html#nornir.core.inventory.Hosts),  [groups](../api/nornir/core/inventory.html#nornir.core.inventory.Groups) and [defaults](../api/nornir/core/inventory.html#nornir.core.inventory.Defaults).\n",
    "\n",
    "In this tutorial we are using the [SimpleInventory](../api/nornir/plugins/inventory/simple.html#nornir.plugins.inventory.simple.SimpleInventory) plugin. This inventory plugin stores all the relevant data in three files. Let’s start by checking them:"
   ]
  },
  {
   "cell_type": "code",
   "execution_count": 2,
   "metadata": {},
   "outputs": [
    {
     "data": {
      "text/html": [
       "<style>\n",
       "pre { line-height: 125%; }\n",
       "td.linenos .normal { color: inherit; background-color: transparent; padding-left: 5px; padding-right: 5px; }\n",
       "span.linenos { color: inherit; background-color: transparent; padding-left: 5px; padding-right: 5px; }\n",
       "td.linenos .special { color: #000000; background-color: #ffffc0; padding-left: 5px; padding-right: 5px; }\n",
       "span.linenos.special { color: #000000; background-color: #ffffc0; padding-left: 5px; padding-right: 5px; }\n",
       ".pygments .hll { background-color: #ffffcc }\n",
       ".pygments .c { color: #3D7B7B; font-style: italic } /* Comment */\n",
       ".pygments .err { border: 1px solid #FF0000 } /* Error */\n",
       ".pygments .k { color: #008000; font-weight: bold } /* Keyword */\n",
       ".pygments .o { color: #666666 } /* Operator */\n",
       ".pygments .ch { color: #3D7B7B; font-style: italic } /* Comment.Hashbang */\n",
       ".pygments .cm { color: #3D7B7B; font-style: italic } /* Comment.Multiline */\n",
       ".pygments .cp { color: #9C6500 } /* Comment.Preproc */\n",
       ".pygments .cpf { color: #3D7B7B; font-style: italic } /* Comment.PreprocFile */\n",
       ".pygments .c1 { color: #3D7B7B; font-style: italic } /* Comment.Single */\n",
       ".pygments .cs { color: #3D7B7B; font-style: italic } /* Comment.Special */\n",
       ".pygments .gd { color: #A00000 } /* Generic.Deleted */\n",
       ".pygments .ge { font-style: italic } /* Generic.Emph */\n",
       ".pygments .gr { color: #E40000 } /* Generic.Error */\n",
       ".pygments .gh { color: #000080; font-weight: bold } /* Generic.Heading */\n",
       ".pygments .gi { color: #008400 } /* Generic.Inserted */\n",
       ".pygments .go { color: #717171 } /* Generic.Output */\n",
       ".pygments .gp { color: #000080; font-weight: bold } /* Generic.Prompt */\n",
       ".pygments .gs { font-weight: bold } /* Generic.Strong */\n",
       ".pygments .gu { color: #800080; font-weight: bold } /* Generic.Subheading */\n",
       ".pygments .gt { color: #0044DD } /* Generic.Traceback */\n",
       ".pygments .kc { color: #008000; font-weight: bold } /* Keyword.Constant */\n",
       ".pygments .kd { color: #008000; font-weight: bold } /* Keyword.Declaration */\n",
       ".pygments .kn { color: #008000; font-weight: bold } /* Keyword.Namespace */\n",
       ".pygments .kp { color: #008000 } /* Keyword.Pseudo */\n",
       ".pygments .kr { color: #008000; font-weight: bold } /* Keyword.Reserved */\n",
       ".pygments .kt { color: #B00040 } /* Keyword.Type */\n",
       ".pygments .m { color: #666666 } /* Literal.Number */\n",
       ".pygments .s { color: #BA2121 } /* Literal.String */\n",
       ".pygments .na { color: #687822 } /* Name.Attribute */\n",
       ".pygments .nb { color: #008000 } /* Name.Builtin */\n",
       ".pygments .nc { color: #0000FF; font-weight: bold } /* Name.Class */\n",
       ".pygments .no { color: #880000 } /* Name.Constant */\n",
       ".pygments .nd { color: #AA22FF } /* Name.Decorator */\n",
       ".pygments .ni { color: #717171; font-weight: bold } /* Name.Entity */\n",
       ".pygments .ne { color: #CB3F38; font-weight: bold } /* Name.Exception */\n",
       ".pygments .nf { color: #0000FF } /* Name.Function */\n",
       ".pygments .nl { color: #767600 } /* Name.Label */\n",
       ".pygments .nn { color: #0000FF; font-weight: bold } /* Name.Namespace */\n",
       ".pygments .nt { color: #008000; font-weight: bold } /* Name.Tag */\n",
       ".pygments .nv { color: #19177C } /* Name.Variable */\n",
       ".pygments .ow { color: #AA22FF; font-weight: bold } /* Operator.Word */\n",
       ".pygments .w { color: #bbbbbb } /* Text.Whitespace */\n",
       ".pygments .mb { color: #666666 } /* Literal.Number.Bin */\n",
       ".pygments .mf { color: #666666 } /* Literal.Number.Float */\n",
       ".pygments .mh { color: #666666 } /* Literal.Number.Hex */\n",
       ".pygments .mi { color: #666666 } /* Literal.Number.Integer */\n",
       ".pygments .mo { color: #666666 } /* Literal.Number.Oct */\n",
       ".pygments .sa { color: #BA2121 } /* Literal.String.Affix */\n",
       ".pygments .sb { color: #BA2121 } /* Literal.String.Backtick */\n",
       ".pygments .sc { color: #BA2121 } /* Literal.String.Char */\n",
       ".pygments .dl { color: #BA2121 } /* Literal.String.Delimiter */\n",
       ".pygments .sd { color: #BA2121; font-style: italic } /* Literal.String.Doc */\n",
       ".pygments .s2 { color: #BA2121 } /* Literal.String.Double */\n",
       ".pygments .se { color: #AA5D1F; font-weight: bold } /* Literal.String.Escape */\n",
       ".pygments .sh { color: #BA2121 } /* Literal.String.Heredoc */\n",
       ".pygments .si { color: #A45A77; font-weight: bold } /* Literal.String.Interpol */\n",
       ".pygments .sx { color: #008000 } /* Literal.String.Other */\n",
       ".pygments .sr { color: #A45A77 } /* Literal.String.Regex */\n",
       ".pygments .s1 { color: #BA2121 } /* Literal.String.Single */\n",
       ".pygments .ss { color: #19177C } /* Literal.String.Symbol */\n",
       ".pygments .bp { color: #008000 } /* Name.Builtin.Pseudo */\n",
       ".pygments .fm { color: #0000FF } /* Name.Function.Magic */\n",
       ".pygments .vc { color: #19177C } /* Name.Variable.Class */\n",
       ".pygments .vg { color: #19177C } /* Name.Variable.Global */\n",
       ".pygments .vi { color: #19177C } /* Name.Variable.Instance */\n",
       ".pygments .vm { color: #19177C } /* Name.Variable.Magic */\n",
       ".pygments .il { color: #666666 } /* Literal.Number.Integer.Long */span.lineno {\n",
       "    color: lightgray;\n",
       "}\n",
       "\n",
       "</style>\n",
       "<div class=\"pygments\"><pre><span></span><span class=\"linenos\">  1</span><span class=\"nn\">---</span><span class=\"w\"></span>\n",
       "<span class=\"linenos\">  2</span><span class=\"nt\">host1.cmh</span><span class=\"p\">:</span><span class=\"w\"></span>\n",
       "<span class=\"linenos\">  3</span><span class=\"w\">    </span><span class=\"nt\">hostname</span><span class=\"p\">:</span><span class=\"w\"> </span><span class=\"l l-Scalar l-Scalar-Plain\">127.0.0.1</span><span class=\"w\"></span>\n",
       "<span class=\"linenos\">  4</span><span class=\"w\">    </span><span class=\"nt\">port</span><span class=\"p\">:</span><span class=\"w\"> </span><span class=\"l l-Scalar l-Scalar-Plain\">2201</span><span class=\"w\"></span>\n",
       "<span class=\"linenos\">  5</span><span class=\"w\">    </span><span class=\"nt\">username</span><span class=\"p\">:</span><span class=\"w\"> </span><span class=\"l l-Scalar l-Scalar-Plain\">vagrant</span><span class=\"w\"></span>\n",
       "<span class=\"linenos\">  6</span><span class=\"w\">    </span><span class=\"nt\">password</span><span class=\"p\">:</span><span class=\"w\"> </span><span class=\"l l-Scalar l-Scalar-Plain\">vagrant</span><span class=\"w\"></span>\n",
       "<span class=\"linenos\">  7</span><span class=\"w\">    </span><span class=\"nt\">platform</span><span class=\"p\">:</span><span class=\"w\"> </span><span class=\"l l-Scalar l-Scalar-Plain\">linux</span><span class=\"w\"></span>\n",
       "<span class=\"linenos\">  8</span><span class=\"w\">    </span><span class=\"nt\">groups</span><span class=\"p\">:</span><span class=\"w\"></span>\n",
       "<span class=\"linenos\">  9</span><span class=\"w\">        </span><span class=\"p p-Indicator\">-</span><span class=\"w\"> </span><span class=\"l l-Scalar l-Scalar-Plain\">cmh</span><span class=\"w\"></span>\n",
       "<span class=\"linenos\"> 10</span><span class=\"w\">    </span><span class=\"nt\">data</span><span class=\"p\">:</span><span class=\"w\"></span>\n",
       "<span class=\"linenos\"> 11</span><span class=\"w\">        </span><span class=\"nt\">site</span><span class=\"p\">:</span><span class=\"w\"> </span><span class=\"l l-Scalar l-Scalar-Plain\">cmh</span><span class=\"w\"></span>\n",
       "<span class=\"linenos\"> 12</span><span class=\"w\">        </span><span class=\"nt\">role</span><span class=\"p\">:</span><span class=\"w\"> </span><span class=\"l l-Scalar l-Scalar-Plain\">host</span><span class=\"w\"></span>\n",
       "<span class=\"linenos\"> 13</span><span class=\"w\">        </span><span class=\"nt\">type</span><span class=\"p\">:</span><span class=\"w\"> </span><span class=\"l l-Scalar l-Scalar-Plain\">host</span><span class=\"w\"></span>\n",
       "<span class=\"linenos\"> 14</span><span class=\"w\">        </span><span class=\"nt\">nested_data</span><span class=\"p\">:</span><span class=\"w\"></span>\n",
       "<span class=\"linenos\"> 15</span><span class=\"w\">            </span><span class=\"nt\">a_dict</span><span class=\"p\">:</span><span class=\"w\"></span>\n",
       "<span class=\"linenos\"> 16</span><span class=\"w\">                </span><span class=\"nt\">a</span><span class=\"p\">:</span><span class=\"w\"> </span><span class=\"l l-Scalar l-Scalar-Plain\">1</span><span class=\"w\"></span>\n",
       "<span class=\"linenos\"> 17</span><span class=\"w\">                </span><span class=\"nt\">b</span><span class=\"p\">:</span><span class=\"w\"> </span><span class=\"l l-Scalar l-Scalar-Plain\">2</span><span class=\"w\"></span>\n",
       "<span class=\"linenos\"> 18</span><span class=\"w\">            </span><span class=\"nt\">a_list</span><span class=\"p\">:</span><span class=\"w\"> </span><span class=\"p p-Indicator\">[</span><span class=\"nv\">1</span><span class=\"p p-Indicator\">,</span><span class=\"w\"> </span><span class=\"nv\">2</span><span class=\"p p-Indicator\">]</span><span class=\"w\"></span>\n",
       "<span class=\"linenos\"> 19</span><span class=\"w\">            </span><span class=\"nt\">a_string</span><span class=\"p\">:</span><span class=\"w\"> </span><span class=\"s\">&quot;asdasd&quot;</span><span class=\"w\"></span>\n",
       "<span class=\"linenos\"> 20</span>\n",
       "<span class=\"linenos\"> 21</span><span class=\"nt\">host2.cmh</span><span class=\"p\">:</span><span class=\"w\"></span>\n",
       "<span class=\"linenos\"> 22</span><span class=\"w\">    </span><span class=\"nt\">hostname</span><span class=\"p\">:</span><span class=\"w\"> </span><span class=\"l l-Scalar l-Scalar-Plain\">127.0.0.1</span><span class=\"w\"></span>\n",
       "<span class=\"linenos\"> 23</span><span class=\"w\">    </span><span class=\"nt\">port</span><span class=\"p\">:</span><span class=\"w\"> </span><span class=\"l l-Scalar l-Scalar-Plain\">2202</span><span class=\"w\"></span>\n",
       "<span class=\"linenos\"> 24</span><span class=\"w\">    </span><span class=\"nt\">username</span><span class=\"p\">:</span><span class=\"w\"> </span><span class=\"l l-Scalar l-Scalar-Plain\">vagrant</span><span class=\"w\"></span>\n",
       "<span class=\"linenos\"> 25</span><span class=\"w\">    </span><span class=\"nt\">password</span><span class=\"p\">:</span><span class=\"w\"> </span><span class=\"l l-Scalar l-Scalar-Plain\">vagrant</span><span class=\"w\"></span>\n",
       "<span class=\"linenos\"> 26</span><span class=\"w\">    </span><span class=\"nt\">platform</span><span class=\"p\">:</span><span class=\"w\"> </span><span class=\"l l-Scalar l-Scalar-Plain\">linux</span><span class=\"w\"></span>\n",
       "<span class=\"linenos\"> 27</span><span class=\"w\">    </span><span class=\"nt\">groups</span><span class=\"p\">:</span><span class=\"w\"></span>\n",
       "<span class=\"linenos\"> 28</span><span class=\"w\">        </span><span class=\"p p-Indicator\">-</span><span class=\"w\"> </span><span class=\"l l-Scalar l-Scalar-Plain\">cmh</span><span class=\"w\"></span>\n",
       "<span class=\"linenos\"> 29</span><span class=\"w\">    </span><span class=\"nt\">data</span><span class=\"p\">:</span><span class=\"w\"></span>\n",
       "<span class=\"linenos\"> 30</span><span class=\"w\">        </span><span class=\"nt\">site</span><span class=\"p\">:</span><span class=\"w\"> </span><span class=\"l l-Scalar l-Scalar-Plain\">cmh</span><span class=\"w\"></span>\n",
       "<span class=\"linenos\"> 31</span><span class=\"w\">        </span><span class=\"nt\">role</span><span class=\"p\">:</span><span class=\"w\"> </span><span class=\"l l-Scalar l-Scalar-Plain\">host</span><span class=\"w\"></span>\n",
       "<span class=\"linenos\"> 32</span><span class=\"w\">        </span><span class=\"nt\">type</span><span class=\"p\">:</span><span class=\"w\"> </span><span class=\"l l-Scalar l-Scalar-Plain\">host</span><span class=\"w\"></span>\n",
       "<span class=\"linenos\"> 33</span><span class=\"w\">        </span><span class=\"nt\">nested_data</span><span class=\"p\">:</span><span class=\"w\"></span>\n",
       "<span class=\"linenos\"> 34</span><span class=\"w\">            </span><span class=\"nt\">a_dict</span><span class=\"p\">:</span><span class=\"w\"></span>\n",
       "<span class=\"linenos\"> 35</span><span class=\"w\">                </span><span class=\"nt\">b</span><span class=\"p\">:</span><span class=\"w\"> </span><span class=\"l l-Scalar l-Scalar-Plain\">2</span><span class=\"w\"></span>\n",
       "<span class=\"linenos\"> 36</span><span class=\"w\">                </span><span class=\"nt\">c</span><span class=\"p\">:</span><span class=\"w\"> </span><span class=\"l l-Scalar l-Scalar-Plain\">3</span><span class=\"w\"></span>\n",
       "<span class=\"linenos\"> 37</span><span class=\"w\">            </span><span class=\"nt\">a_list</span><span class=\"p\">:</span><span class=\"w\"> </span><span class=\"p p-Indicator\">[</span><span class=\"nv\">1</span><span class=\"p p-Indicator\">,</span><span class=\"w\"> </span><span class=\"nv\">2</span><span class=\"p p-Indicator\">]</span><span class=\"w\"></span>\n",
       "<span class=\"linenos\"> 38</span><span class=\"w\">            </span><span class=\"nt\">a_string</span><span class=\"p\">:</span><span class=\"w\"> </span><span class=\"s\">&quot;qwe&quot;</span><span class=\"w\"></span>\n",
       "<span class=\"linenos\"> 39</span>\n",
       "<span class=\"linenos\"> 40</span><span class=\"nt\">spine00.cmh</span><span class=\"p\">:</span><span class=\"w\"></span>\n",
       "<span class=\"linenos\"> 41</span><span class=\"w\">    </span><span class=\"nt\">hostname</span><span class=\"p\">:</span><span class=\"w\"> </span><span class=\"l l-Scalar l-Scalar-Plain\">127.0.0.1</span><span class=\"w\"></span>\n",
       "<span class=\"linenos\"> 42</span><span class=\"w\">    </span><span class=\"nt\">username</span><span class=\"p\">:</span><span class=\"w\"> </span><span class=\"l l-Scalar l-Scalar-Plain\">vagrant</span><span class=\"w\"></span>\n",
       "<span class=\"linenos\"> 43</span><span class=\"w\">    </span><span class=\"nt\">password</span><span class=\"p\">:</span><span class=\"w\"> </span><span class=\"l l-Scalar l-Scalar-Plain\">vagrant</span><span class=\"w\"></span>\n",
       "<span class=\"linenos\"> 44</span><span class=\"w\">    </span><span class=\"nt\">port</span><span class=\"p\">:</span><span class=\"w\"> </span><span class=\"l l-Scalar l-Scalar-Plain\">12444</span><span class=\"w\"></span>\n",
       "<span class=\"linenos\"> 45</span><span class=\"w\">    </span><span class=\"nt\">platform</span><span class=\"p\">:</span><span class=\"w\"> </span><span class=\"l l-Scalar l-Scalar-Plain\">eos</span><span class=\"w\"></span>\n",
       "<span class=\"linenos\"> 46</span><span class=\"w\">    </span><span class=\"nt\">groups</span><span class=\"p\">:</span><span class=\"w\"></span>\n",
       "<span class=\"linenos\"> 47</span><span class=\"w\">        </span><span class=\"p p-Indicator\">-</span><span class=\"w\"> </span><span class=\"l l-Scalar l-Scalar-Plain\">cmh</span><span class=\"w\"></span>\n",
       "<span class=\"linenos\"> 48</span><span class=\"w\">    </span><span class=\"nt\">data</span><span class=\"p\">:</span><span class=\"w\"></span>\n",
       "<span class=\"linenos\"> 49</span><span class=\"w\">        </span><span class=\"nt\">site</span><span class=\"p\">:</span><span class=\"w\"> </span><span class=\"l l-Scalar l-Scalar-Plain\">cmh</span><span class=\"w\"></span>\n",
       "<span class=\"linenos\"> 50</span><span class=\"w\">        </span><span class=\"nt\">role</span><span class=\"p\">:</span><span class=\"w\"> </span><span class=\"l l-Scalar l-Scalar-Plain\">spine</span><span class=\"w\"></span>\n",
       "<span class=\"linenos\"> 51</span><span class=\"w\">        </span><span class=\"nt\">type</span><span class=\"p\">:</span><span class=\"w\"> </span><span class=\"l l-Scalar l-Scalar-Plain\">network_device</span><span class=\"w\"></span>\n",
       "<span class=\"linenos\"> 52</span>\n",
       "<span class=\"linenos\"> 53</span><span class=\"nt\">spine01.cmh</span><span class=\"p\">:</span><span class=\"w\"></span>\n",
       "<span class=\"linenos\"> 54</span><span class=\"w\">    </span><span class=\"nt\">hostname</span><span class=\"p\">:</span><span class=\"w\"> </span><span class=\"l l-Scalar l-Scalar-Plain\">127.0.0.1</span><span class=\"w\"></span>\n",
       "<span class=\"linenos\"> 55</span><span class=\"w\">    </span><span class=\"nt\">username</span><span class=\"p\">:</span><span class=\"w\"> </span><span class=\"l l-Scalar l-Scalar-Plain\">vagrant</span><span class=\"w\"></span>\n",
       "<span class=\"linenos\"> 56</span><span class=\"w\">    </span><span class=\"nt\">password</span><span class=\"p\">:</span><span class=\"w\"> </span><span class=\"s\">&quot;&quot;</span><span class=\"w\"></span>\n",
       "<span class=\"linenos\"> 57</span><span class=\"w\">    </span><span class=\"nt\">platform</span><span class=\"p\">:</span><span class=\"w\"> </span><span class=\"l l-Scalar l-Scalar-Plain\">junos</span><span class=\"w\"></span>\n",
       "<span class=\"linenos\"> 58</span><span class=\"w\">    </span><span class=\"nt\">port</span><span class=\"p\">:</span><span class=\"w\"> </span><span class=\"l l-Scalar l-Scalar-Plain\">12204</span><span class=\"w\"></span>\n",
       "<span class=\"linenos\"> 59</span><span class=\"w\">    </span><span class=\"nt\">groups</span><span class=\"p\">:</span><span class=\"w\"></span>\n",
       "<span class=\"linenos\"> 60</span><span class=\"w\">        </span><span class=\"p p-Indicator\">-</span><span class=\"w\"> </span><span class=\"l l-Scalar l-Scalar-Plain\">cmh</span><span class=\"w\"></span>\n",
       "<span class=\"linenos\"> 61</span><span class=\"w\">    </span><span class=\"nt\">data</span><span class=\"p\">:</span><span class=\"w\"></span>\n",
       "<span class=\"linenos\"> 62</span><span class=\"w\">        </span><span class=\"nt\">site</span><span class=\"p\">:</span><span class=\"w\"> </span><span class=\"l l-Scalar l-Scalar-Plain\">cmh</span><span class=\"w\"></span>\n",
       "<span class=\"linenos\"> 63</span><span class=\"w\">        </span><span class=\"nt\">role</span><span class=\"p\">:</span><span class=\"w\"> </span><span class=\"l l-Scalar l-Scalar-Plain\">spine</span><span class=\"w\"></span>\n",
       "<span class=\"linenos\"> 64</span><span class=\"w\">        </span><span class=\"nt\">type</span><span class=\"p\">:</span><span class=\"w\"> </span><span class=\"l l-Scalar l-Scalar-Plain\">network_device</span><span class=\"w\"></span>\n",
       "<span class=\"linenos\"> 65</span>\n",
       "<span class=\"linenos\"> 66</span><span class=\"nt\">leaf00.cmh</span><span class=\"p\">:</span><span class=\"w\"></span>\n",
       "<span class=\"linenos\"> 67</span><span class=\"w\">    </span><span class=\"nt\">hostname</span><span class=\"p\">:</span><span class=\"w\"> </span><span class=\"l l-Scalar l-Scalar-Plain\">127.0.0.1</span><span class=\"w\"></span>\n",
       "<span class=\"linenos\"> 68</span><span class=\"w\">    </span><span class=\"nt\">username</span><span class=\"p\">:</span><span class=\"w\"> </span><span class=\"l l-Scalar l-Scalar-Plain\">vagrant</span><span class=\"w\"></span>\n",
       "<span class=\"linenos\"> 69</span><span class=\"w\">    </span><span class=\"nt\">password</span><span class=\"p\">:</span><span class=\"w\"> </span><span class=\"l l-Scalar l-Scalar-Plain\">vagrant</span><span class=\"w\"></span>\n",
       "<span class=\"linenos\"> 70</span><span class=\"w\">    </span><span class=\"nt\">port</span><span class=\"p\">:</span><span class=\"w\"> </span><span class=\"l l-Scalar l-Scalar-Plain\">12443</span><span class=\"w\"></span>\n",
       "<span class=\"linenos\"> 71</span><span class=\"w\">    </span><span class=\"nt\">platform</span><span class=\"p\">:</span><span class=\"w\"> </span><span class=\"l l-Scalar l-Scalar-Plain\">eos</span><span class=\"w\"></span>\n",
       "<span class=\"linenos\"> 72</span><span class=\"w\">    </span><span class=\"nt\">groups</span><span class=\"p\">:</span><span class=\"w\"></span>\n",
       "<span class=\"linenos\"> 73</span><span class=\"w\">        </span><span class=\"p p-Indicator\">-</span><span class=\"w\"> </span><span class=\"l l-Scalar l-Scalar-Plain\">cmh</span><span class=\"w\"></span>\n",
       "<span class=\"linenos\"> 74</span><span class=\"w\">    </span><span class=\"nt\">data</span><span class=\"p\">:</span><span class=\"w\"></span>\n",
       "<span class=\"linenos\"> 75</span><span class=\"w\">        </span><span class=\"nt\">site</span><span class=\"p\">:</span><span class=\"w\"> </span><span class=\"l l-Scalar l-Scalar-Plain\">cmh</span><span class=\"w\"></span>\n",
       "<span class=\"linenos\"> 76</span><span class=\"w\">        </span><span class=\"nt\">role</span><span class=\"p\">:</span><span class=\"w\"> </span><span class=\"l l-Scalar l-Scalar-Plain\">leaf</span><span class=\"w\"></span>\n",
       "<span class=\"linenos\"> 77</span><span class=\"w\">        </span><span class=\"nt\">type</span><span class=\"p\">:</span><span class=\"w\"> </span><span class=\"l l-Scalar l-Scalar-Plain\">network_device</span><span class=\"w\"></span>\n",
       "<span class=\"linenos\"> 78</span><span class=\"w\">        </span><span class=\"nt\">asn</span><span class=\"p\">:</span><span class=\"w\"> </span><span class=\"l l-Scalar l-Scalar-Plain\">65100</span><span class=\"w\"></span>\n",
       "<span class=\"linenos\"> 79</span>\n",
       "<span class=\"linenos\"> 80</span><span class=\"nt\">leaf01.cmh</span><span class=\"p\">:</span><span class=\"w\"></span>\n",
       "<span class=\"linenos\"> 81</span><span class=\"w\">    </span><span class=\"nt\">hostname</span><span class=\"p\">:</span><span class=\"w\"> </span><span class=\"l l-Scalar l-Scalar-Plain\">127.0.0.1</span><span class=\"w\"></span>\n",
       "<span class=\"linenos\"> 82</span><span class=\"w\">    </span><span class=\"nt\">username</span><span class=\"p\">:</span><span class=\"w\"> </span><span class=\"l l-Scalar l-Scalar-Plain\">vagrant</span><span class=\"w\"></span>\n",
       "<span class=\"linenos\"> 83</span><span class=\"w\">    </span><span class=\"nt\">password</span><span class=\"p\">:</span><span class=\"w\"> </span><span class=\"s\">&quot;&quot;</span><span class=\"w\"></span>\n",
       "<span class=\"linenos\"> 84</span><span class=\"w\">    </span><span class=\"nt\">port</span><span class=\"p\">:</span><span class=\"w\"> </span><span class=\"l l-Scalar l-Scalar-Plain\">12203</span><span class=\"w\"></span>\n",
       "<span class=\"linenos\"> 85</span><span class=\"w\">    </span><span class=\"nt\">platform</span><span class=\"p\">:</span><span class=\"w\"> </span><span class=\"l l-Scalar l-Scalar-Plain\">junos</span><span class=\"w\"></span>\n",
       "<span class=\"linenos\"> 86</span><span class=\"w\">    </span><span class=\"nt\">groups</span><span class=\"p\">:</span><span class=\"w\"></span>\n",
       "<span class=\"linenos\"> 87</span><span class=\"w\">        </span><span class=\"p p-Indicator\">-</span><span class=\"w\"> </span><span class=\"l l-Scalar l-Scalar-Plain\">cmh</span><span class=\"w\"></span>\n",
       "<span class=\"linenos\"> 88</span><span class=\"w\">    </span><span class=\"nt\">data</span><span class=\"p\">:</span><span class=\"w\"></span>\n",
       "<span class=\"linenos\"> 89</span><span class=\"w\">        </span><span class=\"nt\">site</span><span class=\"p\">:</span><span class=\"w\"> </span><span class=\"l l-Scalar l-Scalar-Plain\">cmh</span><span class=\"w\"></span>\n",
       "<span class=\"linenos\"> 90</span><span class=\"w\">        </span><span class=\"nt\">role</span><span class=\"p\">:</span><span class=\"w\"> </span><span class=\"l l-Scalar l-Scalar-Plain\">leaf</span><span class=\"w\"></span>\n",
       "<span class=\"linenos\"> 91</span><span class=\"w\">        </span><span class=\"nt\">type</span><span class=\"p\">:</span><span class=\"w\"> </span><span class=\"l l-Scalar l-Scalar-Plain\">network_device</span><span class=\"w\"></span>\n",
       "<span class=\"linenos\"> 92</span><span class=\"w\">        </span><span class=\"nt\">asn</span><span class=\"p\">:</span><span class=\"w\"> </span><span class=\"l l-Scalar l-Scalar-Plain\">65101</span><span class=\"w\"></span>\n",
       "<span class=\"linenos\"> 93</span>\n",
       "<span class=\"linenos\"> 94</span><span class=\"nt\">host1.bma</span><span class=\"p\">:</span><span class=\"w\"></span>\n",
       "<span class=\"linenos\"> 95</span><span class=\"w\">    </span><span class=\"nt\">groups</span><span class=\"p\">:</span><span class=\"w\"></span>\n",
       "<span class=\"linenos\"> 96</span><span class=\"w\">        </span><span class=\"p p-Indicator\">-</span><span class=\"w\"> </span><span class=\"l l-Scalar l-Scalar-Plain\">bma</span><span class=\"w\"></span>\n",
       "<span class=\"linenos\"> 97</span><span class=\"w\">    </span><span class=\"nt\">platform</span><span class=\"p\">:</span><span class=\"w\"> </span><span class=\"l l-Scalar l-Scalar-Plain\">linux</span><span class=\"w\"></span>\n",
       "<span class=\"linenos\"> 98</span><span class=\"w\">    </span><span class=\"nt\">data</span><span class=\"p\">:</span><span class=\"w\"></span>\n",
       "<span class=\"linenos\"> 99</span><span class=\"w\">        </span><span class=\"nt\">site</span><span class=\"p\">:</span><span class=\"w\"> </span><span class=\"l l-Scalar l-Scalar-Plain\">bma</span><span class=\"w\"></span>\n",
       "<span class=\"linenos\">100</span><span class=\"w\">        </span><span class=\"nt\">role</span><span class=\"p\">:</span><span class=\"w\"> </span><span class=\"l l-Scalar l-Scalar-Plain\">host</span><span class=\"w\"></span>\n",
       "<span class=\"linenos\">101</span><span class=\"w\">        </span><span class=\"nt\">type</span><span class=\"p\">:</span><span class=\"w\"> </span><span class=\"l l-Scalar l-Scalar-Plain\">host</span><span class=\"w\"></span>\n",
       "<span class=\"linenos\">102</span>\n",
       "<span class=\"linenos\">103</span><span class=\"nt\">host2.bma</span><span class=\"p\">:</span><span class=\"w\"></span>\n",
       "<span class=\"linenos\">104</span><span class=\"w\">    </span><span class=\"nt\">groups</span><span class=\"p\">:</span><span class=\"w\"></span>\n",
       "<span class=\"linenos\">105</span><span class=\"w\">        </span><span class=\"p p-Indicator\">-</span><span class=\"w\"> </span><span class=\"l l-Scalar l-Scalar-Plain\">bma</span><span class=\"w\"></span>\n",
       "<span class=\"linenos\">106</span><span class=\"w\">    </span><span class=\"nt\">platform</span><span class=\"p\">:</span><span class=\"w\"> </span><span class=\"l l-Scalar l-Scalar-Plain\">linux</span><span class=\"w\"></span>\n",
       "<span class=\"linenos\">107</span><span class=\"w\">    </span><span class=\"nt\">data</span><span class=\"p\">:</span><span class=\"w\"></span>\n",
       "<span class=\"linenos\">108</span><span class=\"w\">        </span><span class=\"nt\">site</span><span class=\"p\">:</span><span class=\"w\"> </span><span class=\"l l-Scalar l-Scalar-Plain\">bma</span><span class=\"w\"></span>\n",
       "<span class=\"linenos\">109</span><span class=\"w\">        </span><span class=\"nt\">role</span><span class=\"p\">:</span><span class=\"w\"> </span><span class=\"l l-Scalar l-Scalar-Plain\">host</span><span class=\"w\"></span>\n",
       "<span class=\"linenos\">110</span><span class=\"w\">        </span><span class=\"nt\">type</span><span class=\"p\">:</span><span class=\"w\"> </span><span class=\"l l-Scalar l-Scalar-Plain\">host</span><span class=\"w\"></span>\n",
       "<span class=\"linenos\">111</span>\n",
       "<span class=\"linenos\">112</span><span class=\"nt\">spine00.bma</span><span class=\"p\">:</span><span class=\"w\"></span>\n",
       "<span class=\"linenos\">113</span><span class=\"w\">    </span><span class=\"nt\">hostname</span><span class=\"p\">:</span><span class=\"w\"> </span><span class=\"l l-Scalar l-Scalar-Plain\">127.0.0.1</span><span class=\"w\"></span>\n",
       "<span class=\"linenos\">114</span><span class=\"w\">    </span><span class=\"nt\">username</span><span class=\"p\">:</span><span class=\"w\"> </span><span class=\"l l-Scalar l-Scalar-Plain\">vagrant</span><span class=\"w\"></span>\n",
       "<span class=\"linenos\">115</span><span class=\"w\">    </span><span class=\"nt\">password</span><span class=\"p\">:</span><span class=\"w\"> </span><span class=\"l l-Scalar l-Scalar-Plain\">vagrant</span><span class=\"w\"></span>\n",
       "<span class=\"linenos\">116</span><span class=\"w\">    </span><span class=\"nt\">port</span><span class=\"p\">:</span><span class=\"w\"> </span><span class=\"l l-Scalar l-Scalar-Plain\">12444</span><span class=\"w\"></span>\n",
       "<span class=\"linenos\">117</span><span class=\"w\">    </span><span class=\"nt\">platform</span><span class=\"p\">:</span><span class=\"w\"> </span><span class=\"l l-Scalar l-Scalar-Plain\">eos</span><span class=\"w\"></span>\n",
       "<span class=\"linenos\">118</span><span class=\"w\">    </span><span class=\"nt\">groups</span><span class=\"p\">:</span><span class=\"w\"></span>\n",
       "<span class=\"linenos\">119</span><span class=\"w\">        </span><span class=\"p p-Indicator\">-</span><span class=\"w\"> </span><span class=\"l l-Scalar l-Scalar-Plain\">bma</span><span class=\"w\"></span>\n",
       "<span class=\"linenos\">120</span><span class=\"w\">    </span><span class=\"nt\">data</span><span class=\"p\">:</span><span class=\"w\"></span>\n",
       "<span class=\"linenos\">121</span><span class=\"w\">        </span><span class=\"nt\">site</span><span class=\"p\">:</span><span class=\"w\"> </span><span class=\"l l-Scalar l-Scalar-Plain\">bma</span><span class=\"w\"></span>\n",
       "<span class=\"linenos\">122</span><span class=\"w\">        </span><span class=\"nt\">role</span><span class=\"p\">:</span><span class=\"w\"> </span><span class=\"l l-Scalar l-Scalar-Plain\">spine</span><span class=\"w\"></span>\n",
       "<span class=\"linenos\">123</span><span class=\"w\">        </span><span class=\"nt\">type</span><span class=\"p\">:</span><span class=\"w\"> </span><span class=\"l l-Scalar l-Scalar-Plain\">network_device</span><span class=\"w\"></span>\n",
       "<span class=\"linenos\">124</span>\n",
       "<span class=\"linenos\">125</span><span class=\"nt\">spine01.bma</span><span class=\"p\">:</span><span class=\"w\"></span>\n",
       "<span class=\"linenos\">126</span><span class=\"w\">    </span><span class=\"nt\">hostname</span><span class=\"p\">:</span><span class=\"w\"> </span><span class=\"l l-Scalar l-Scalar-Plain\">127.0.0.1</span><span class=\"w\"></span>\n",
       "<span class=\"linenos\">127</span><span class=\"w\">    </span><span class=\"nt\">username</span><span class=\"p\">:</span><span class=\"w\"> </span><span class=\"l l-Scalar l-Scalar-Plain\">vagrant</span><span class=\"w\"></span>\n",
       "<span class=\"linenos\">128</span><span class=\"w\">    </span><span class=\"nt\">password</span><span class=\"p\">:</span><span class=\"w\"> </span><span class=\"s\">&quot;&quot;</span><span class=\"w\"></span>\n",
       "<span class=\"linenos\">129</span><span class=\"w\">    </span><span class=\"nt\">port</span><span class=\"p\">:</span><span class=\"w\"> </span><span class=\"l l-Scalar l-Scalar-Plain\">12204</span><span class=\"w\"></span>\n",
       "<span class=\"linenos\">130</span><span class=\"w\">    </span><span class=\"nt\">platform</span><span class=\"p\">:</span><span class=\"w\"> </span><span class=\"l l-Scalar l-Scalar-Plain\">junos</span><span class=\"w\"></span>\n",
       "<span class=\"linenos\">131</span><span class=\"w\">    </span><span class=\"nt\">groups</span><span class=\"p\">:</span><span class=\"w\"></span>\n",
       "<span class=\"linenos\">132</span><span class=\"w\">        </span><span class=\"p p-Indicator\">-</span><span class=\"w\"> </span><span class=\"l l-Scalar l-Scalar-Plain\">bma</span><span class=\"w\"></span>\n",
       "<span class=\"linenos\">133</span><span class=\"w\">    </span><span class=\"nt\">data</span><span class=\"p\">:</span><span class=\"w\"></span>\n",
       "<span class=\"linenos\">134</span><span class=\"w\">        </span><span class=\"nt\">site</span><span class=\"p\">:</span><span class=\"w\"> </span><span class=\"l l-Scalar l-Scalar-Plain\">bma</span><span class=\"w\"></span>\n",
       "<span class=\"linenos\">135</span><span class=\"w\">        </span><span class=\"nt\">role</span><span class=\"p\">:</span><span class=\"w\"> </span><span class=\"l l-Scalar l-Scalar-Plain\">spine</span><span class=\"w\"></span>\n",
       "<span class=\"linenos\">136</span><span class=\"w\">        </span><span class=\"nt\">type</span><span class=\"p\">:</span><span class=\"w\"> </span><span class=\"l l-Scalar l-Scalar-Plain\">network_device</span><span class=\"w\"></span>\n",
       "<span class=\"linenos\">137</span>\n",
       "<span class=\"linenos\">138</span><span class=\"nt\">leaf00.bma</span><span class=\"p\">:</span><span class=\"w\"></span>\n",
       "<span class=\"linenos\">139</span><span class=\"w\">    </span><span class=\"nt\">hostname</span><span class=\"p\">:</span><span class=\"w\"> </span><span class=\"l l-Scalar l-Scalar-Plain\">127.0.0.1</span><span class=\"w\"></span>\n",
       "<span class=\"linenos\">140</span><span class=\"w\">    </span><span class=\"nt\">username</span><span class=\"p\">:</span><span class=\"w\"> </span><span class=\"l l-Scalar l-Scalar-Plain\">vagrant</span><span class=\"w\"></span>\n",
       "<span class=\"linenos\">141</span><span class=\"w\">    </span><span class=\"nt\">password</span><span class=\"p\">:</span><span class=\"w\"> </span><span class=\"l l-Scalar l-Scalar-Plain\">vagrant</span><span class=\"w\"></span>\n",
       "<span class=\"linenos\">142</span><span class=\"w\">    </span><span class=\"nt\">port</span><span class=\"p\">:</span><span class=\"w\"> </span><span class=\"l l-Scalar l-Scalar-Plain\">12443</span><span class=\"w\"></span>\n",
       "<span class=\"linenos\">143</span><span class=\"w\">    </span><span class=\"nt\">platform</span><span class=\"p\">:</span><span class=\"w\"> </span><span class=\"l l-Scalar l-Scalar-Plain\">eos</span><span class=\"w\"></span>\n",
       "<span class=\"linenos\">144</span><span class=\"w\">    </span><span class=\"nt\">groups</span><span class=\"p\">:</span><span class=\"w\"></span>\n",
       "<span class=\"linenos\">145</span><span class=\"w\">        </span><span class=\"p p-Indicator\">-</span><span class=\"w\"> </span><span class=\"l l-Scalar l-Scalar-Plain\">bma</span><span class=\"w\"></span>\n",
       "<span class=\"linenos\">146</span><span class=\"w\">    </span><span class=\"nt\">data</span><span class=\"p\">:</span><span class=\"w\"></span>\n",
       "<span class=\"linenos\">147</span><span class=\"w\">        </span><span class=\"nt\">site</span><span class=\"p\">:</span><span class=\"w\"> </span><span class=\"l l-Scalar l-Scalar-Plain\">bma</span><span class=\"w\"></span>\n",
       "<span class=\"linenos\">148</span><span class=\"w\">        </span><span class=\"nt\">role</span><span class=\"p\">:</span><span class=\"w\"> </span><span class=\"l l-Scalar l-Scalar-Plain\">leaf</span><span class=\"w\"></span>\n",
       "<span class=\"linenos\">149</span><span class=\"w\">        </span><span class=\"nt\">type</span><span class=\"p\">:</span><span class=\"w\"> </span><span class=\"l l-Scalar l-Scalar-Plain\">network_device</span><span class=\"w\"></span>\n",
       "<span class=\"linenos\">150</span>\n",
       "<span class=\"linenos\">151</span><span class=\"nt\">leaf01.bma</span><span class=\"p\">:</span><span class=\"w\"></span>\n",
       "<span class=\"linenos\">152</span><span class=\"w\">    </span><span class=\"nt\">hostname</span><span class=\"p\">:</span><span class=\"w\"> </span><span class=\"l l-Scalar l-Scalar-Plain\">127.0.0.1</span><span class=\"w\"></span>\n",
       "<span class=\"linenos\">153</span><span class=\"w\">    </span><span class=\"nt\">username</span><span class=\"p\">:</span><span class=\"w\"> </span><span class=\"l l-Scalar l-Scalar-Plain\">vagrant</span><span class=\"w\"></span>\n",
       "<span class=\"linenos\">154</span><span class=\"w\">    </span><span class=\"nt\">password</span><span class=\"p\">:</span><span class=\"w\"> </span><span class=\"l l-Scalar l-Scalar-Plain\">wrong_password</span><span class=\"w\"></span>\n",
       "<span class=\"linenos\">155</span><span class=\"w\">    </span><span class=\"nt\">port</span><span class=\"p\">:</span><span class=\"w\"> </span><span class=\"l l-Scalar l-Scalar-Plain\">12203</span><span class=\"w\"></span>\n",
       "<span class=\"linenos\">156</span><span class=\"w\">    </span><span class=\"nt\">platform</span><span class=\"p\">:</span><span class=\"w\"> </span><span class=\"l l-Scalar l-Scalar-Plain\">junos</span><span class=\"w\"></span>\n",
       "<span class=\"linenos\">157</span><span class=\"w\">    </span><span class=\"nt\">groups</span><span class=\"p\">:</span><span class=\"w\"></span>\n",
       "<span class=\"linenos\">158</span><span class=\"w\">        </span><span class=\"p p-Indicator\">-</span><span class=\"w\"> </span><span class=\"l l-Scalar l-Scalar-Plain\">bma</span><span class=\"w\"></span>\n",
       "<span class=\"linenos\">159</span><span class=\"w\">    </span><span class=\"nt\">data</span><span class=\"p\">:</span><span class=\"w\"></span>\n",
       "<span class=\"linenos\">160</span><span class=\"w\">        </span><span class=\"nt\">site</span><span class=\"p\">:</span><span class=\"w\"> </span><span class=\"l l-Scalar l-Scalar-Plain\">bma</span><span class=\"w\"></span>\n",
       "<span class=\"linenos\">161</span><span class=\"w\">        </span><span class=\"nt\">role</span><span class=\"p\">:</span><span class=\"w\"> </span><span class=\"l l-Scalar l-Scalar-Plain\">leaf</span><span class=\"w\"></span>\n",
       "<span class=\"linenos\">162</span><span class=\"w\">        </span><span class=\"nt\">type</span><span class=\"p\">:</span><span class=\"w\"> </span><span class=\"l l-Scalar l-Scalar-Plain\">network_device</span><span class=\"w\"></span>\n",
       "</pre></div>\n",
       "\n"
      ],
      "text/plain": [
       "<IPython.core.display.HTML object>"
      ]
     },
     "execution_count": 2,
     "metadata": {},
     "output_type": "execute_result"
    }
   ],
   "source": [
    "# hosts file\n",
    "%highlight_file inventory/hosts.yaml"
   ]
  },
  {
   "cell_type": "markdown",
   "metadata": {},
   "source": [
    "The hosts file is basically a map where the outermost key is the name of the host and then a `Host` object. You can see the schema of the object by executing:"
   ]
  },
  {
   "cell_type": "code",
   "execution_count": 3,
   "metadata": {},
   "outputs": [
    {
     "name": "stdout",
     "output_type": "stream",
     "text": [
      "{\n",
      "    \"name\": \"str\",\n",
      "    \"connection_options\": {\n",
      "        \"$connection_type\": {\n",
      "            \"extras\": {\n",
      "                \"$key\": \"$value\"\n",
      "            },\n",
      "            \"hostname\": \"str\",\n",
      "            \"port\": \"int\",\n",
      "            \"username\": \"str\",\n",
      "            \"password\": \"str\",\n",
      "            \"platform\": \"str\"\n",
      "        }\n",
      "    },\n",
      "    \"groups\": [\n",
      "        \"$group_name\"\n",
      "    ],\n",
      "    \"data\": {\n",
      "        \"$key\": \"$value\"\n",
      "    },\n",
      "    \"hostname\": \"str\",\n",
      "    \"port\": \"int\",\n",
      "    \"username\": \"str\",\n",
      "    \"password\": \"str\",\n",
      "    \"platform\": \"str\"\n",
      "}\n"
     ]
    }
   ],
   "source": [
    "from nornir.core.inventory import Host\n",
    "import json\n",
    "print(json.dumps(Host.schema(), indent=4))"
   ]
  },
  {
   "cell_type": "markdown",
   "metadata": {},
   "source": [
    "The `groups_file` follows the same rules as the `hosts_file`."
   ]
  },
  {
   "cell_type": "code",
   "execution_count": 4,
   "metadata": {},
   "outputs": [
    {
     "data": {
      "text/html": [
       "<style>\n",
       "pre { line-height: 125%; }\n",
       "td.linenos .normal { color: inherit; background-color: transparent; padding-left: 5px; padding-right: 5px; }\n",
       "span.linenos { color: inherit; background-color: transparent; padding-left: 5px; padding-right: 5px; }\n",
       "td.linenos .special { color: #000000; background-color: #ffffc0; padding-left: 5px; padding-right: 5px; }\n",
       "span.linenos.special { color: #000000; background-color: #ffffc0; padding-left: 5px; padding-right: 5px; }\n",
       ".pygments .hll { background-color: #ffffcc }\n",
       ".pygments .c { color: #3D7B7B; font-style: italic } /* Comment */\n",
       ".pygments .err { border: 1px solid #FF0000 } /* Error */\n",
       ".pygments .k { color: #008000; font-weight: bold } /* Keyword */\n",
       ".pygments .o { color: #666666 } /* Operator */\n",
       ".pygments .ch { color: #3D7B7B; font-style: italic } /* Comment.Hashbang */\n",
       ".pygments .cm { color: #3D7B7B; font-style: italic } /* Comment.Multiline */\n",
       ".pygments .cp { color: #9C6500 } /* Comment.Preproc */\n",
       ".pygments .cpf { color: #3D7B7B; font-style: italic } /* Comment.PreprocFile */\n",
       ".pygments .c1 { color: #3D7B7B; font-style: italic } /* Comment.Single */\n",
       ".pygments .cs { color: #3D7B7B; font-style: italic } /* Comment.Special */\n",
       ".pygments .gd { color: #A00000 } /* Generic.Deleted */\n",
       ".pygments .ge { font-style: italic } /* Generic.Emph */\n",
       ".pygments .gr { color: #E40000 } /* Generic.Error */\n",
       ".pygments .gh { color: #000080; font-weight: bold } /* Generic.Heading */\n",
       ".pygments .gi { color: #008400 } /* Generic.Inserted */\n",
       ".pygments .go { color: #717171 } /* Generic.Output */\n",
       ".pygments .gp { color: #000080; font-weight: bold } /* Generic.Prompt */\n",
       ".pygments .gs { font-weight: bold } /* Generic.Strong */\n",
       ".pygments .gu { color: #800080; font-weight: bold } /* Generic.Subheading */\n",
       ".pygments .gt { color: #0044DD } /* Generic.Traceback */\n",
       ".pygments .kc { color: #008000; font-weight: bold } /* Keyword.Constant */\n",
       ".pygments .kd { color: #008000; font-weight: bold } /* Keyword.Declaration */\n",
       ".pygments .kn { color: #008000; font-weight: bold } /* Keyword.Namespace */\n",
       ".pygments .kp { color: #008000 } /* Keyword.Pseudo */\n",
       ".pygments .kr { color: #008000; font-weight: bold } /* Keyword.Reserved */\n",
       ".pygments .kt { color: #B00040 } /* Keyword.Type */\n",
       ".pygments .m { color: #666666 } /* Literal.Number */\n",
       ".pygments .s { color: #BA2121 } /* Literal.String */\n",
       ".pygments .na { color: #687822 } /* Name.Attribute */\n",
       ".pygments .nb { color: #008000 } /* Name.Builtin */\n",
       ".pygments .nc { color: #0000FF; font-weight: bold } /* Name.Class */\n",
       ".pygments .no { color: #880000 } /* Name.Constant */\n",
       ".pygments .nd { color: #AA22FF } /* Name.Decorator */\n",
       ".pygments .ni { color: #717171; font-weight: bold } /* Name.Entity */\n",
       ".pygments .ne { color: #CB3F38; font-weight: bold } /* Name.Exception */\n",
       ".pygments .nf { color: #0000FF } /* Name.Function */\n",
       ".pygments .nl { color: #767600 } /* Name.Label */\n",
       ".pygments .nn { color: #0000FF; font-weight: bold } /* Name.Namespace */\n",
       ".pygments .nt { color: #008000; font-weight: bold } /* Name.Tag */\n",
       ".pygments .nv { color: #19177C } /* Name.Variable */\n",
       ".pygments .ow { color: #AA22FF; font-weight: bold } /* Operator.Word */\n",
       ".pygments .w { color: #bbbbbb } /* Text.Whitespace */\n",
       ".pygments .mb { color: #666666 } /* Literal.Number.Bin */\n",
       ".pygments .mf { color: #666666 } /* Literal.Number.Float */\n",
       ".pygments .mh { color: #666666 } /* Literal.Number.Hex */\n",
       ".pygments .mi { color: #666666 } /* Literal.Number.Integer */\n",
       ".pygments .mo { color: #666666 } /* Literal.Number.Oct */\n",
       ".pygments .sa { color: #BA2121 } /* Literal.String.Affix */\n",
       ".pygments .sb { color: #BA2121 } /* Literal.String.Backtick */\n",
       ".pygments .sc { color: #BA2121 } /* Literal.String.Char */\n",
       ".pygments .dl { color: #BA2121 } /* Literal.String.Delimiter */\n",
       ".pygments .sd { color: #BA2121; font-style: italic } /* Literal.String.Doc */\n",
       ".pygments .s2 { color: #BA2121 } /* Literal.String.Double */\n",
       ".pygments .se { color: #AA5D1F; font-weight: bold } /* Literal.String.Escape */\n",
       ".pygments .sh { color: #BA2121 } /* Literal.String.Heredoc */\n",
       ".pygments .si { color: #A45A77; font-weight: bold } /* Literal.String.Interpol */\n",
       ".pygments .sx { color: #008000 } /* Literal.String.Other */\n",
       ".pygments .sr { color: #A45A77 } /* Literal.String.Regex */\n",
       ".pygments .s1 { color: #BA2121 } /* Literal.String.Single */\n",
       ".pygments .ss { color: #19177C } /* Literal.String.Symbol */\n",
       ".pygments .bp { color: #008000 } /* Name.Builtin.Pseudo */\n",
       ".pygments .fm { color: #0000FF } /* Name.Function.Magic */\n",
       ".pygments .vc { color: #19177C } /* Name.Variable.Class */\n",
       ".pygments .vg { color: #19177C } /* Name.Variable.Global */\n",
       ".pygments .vi { color: #19177C } /* Name.Variable.Instance */\n",
       ".pygments .vm { color: #19177C } /* Name.Variable.Magic */\n",
       ".pygments .il { color: #666666 } /* Literal.Number.Integer.Long */span.lineno {\n",
       "    color: lightgray;\n",
       "}\n",
       "\n",
       "</style>\n",
       "<div class=\"pygments\"><pre><span></span><span class=\"linenos\"> 1</span><span class=\"nn\">---</span><span class=\"w\"></span>\n",
       "<span class=\"linenos\"> 2</span><span class=\"nt\">global</span><span class=\"p\">:</span><span class=\"w\"></span>\n",
       "<span class=\"linenos\"> 3</span><span class=\"w\">    </span><span class=\"nt\">data</span><span class=\"p\">:</span><span class=\"w\"></span>\n",
       "<span class=\"linenos\"> 4</span><span class=\"w\">        </span><span class=\"nt\">domain</span><span class=\"p\">:</span><span class=\"w\"> </span><span class=\"l l-Scalar l-Scalar-Plain\">global.local</span><span class=\"w\"></span>\n",
       "<span class=\"linenos\"> 5</span><span class=\"w\">        </span><span class=\"nt\">asn</span><span class=\"p\">:</span><span class=\"w\"> </span><span class=\"l l-Scalar l-Scalar-Plain\">1</span><span class=\"w\"></span>\n",
       "<span class=\"linenos\"> 6</span>\n",
       "<span class=\"linenos\"> 7</span><span class=\"nt\">eu</span><span class=\"p\">:</span><span class=\"w\"></span>\n",
       "<span class=\"linenos\"> 8</span><span class=\"w\">    </span><span class=\"nt\">data</span><span class=\"p\">:</span><span class=\"w\"></span>\n",
       "<span class=\"linenos\"> 9</span><span class=\"w\">        </span><span class=\"nt\">asn</span><span class=\"p\">:</span><span class=\"w\"> </span><span class=\"l l-Scalar l-Scalar-Plain\">65100</span><span class=\"w\"></span>\n",
       "<span class=\"linenos\">10</span>\n",
       "<span class=\"linenos\">11</span><span class=\"nt\">bma</span><span class=\"p\">:</span><span class=\"w\"></span>\n",
       "<span class=\"linenos\">12</span><span class=\"w\">    </span><span class=\"nt\">groups</span><span class=\"p\">:</span><span class=\"w\"></span>\n",
       "<span class=\"linenos\">13</span><span class=\"w\">        </span><span class=\"p p-Indicator\">-</span><span class=\"w\"> </span><span class=\"l l-Scalar l-Scalar-Plain\">eu</span><span class=\"w\"></span>\n",
       "<span class=\"linenos\">14</span><span class=\"w\">        </span><span class=\"p p-Indicator\">-</span><span class=\"w\"> </span><span class=\"l l-Scalar l-Scalar-Plain\">global</span><span class=\"w\"></span>\n",
       "<span class=\"linenos\">15</span>\n",
       "<span class=\"linenos\">16</span><span class=\"nt\">cmh</span><span class=\"p\">:</span><span class=\"w\"></span>\n",
       "<span class=\"linenos\">17</span><span class=\"w\">    </span><span class=\"nt\">data</span><span class=\"p\">:</span><span class=\"w\"></span>\n",
       "<span class=\"linenos\">18</span><span class=\"w\">        </span><span class=\"nt\">asn</span><span class=\"p\">:</span><span class=\"w\"> </span><span class=\"l l-Scalar l-Scalar-Plain\">65000</span><span class=\"w\"></span>\n",
       "<span class=\"linenos\">19</span><span class=\"w\">        </span><span class=\"nt\">vlans</span><span class=\"p\">:</span><span class=\"w\"></span>\n",
       "<span class=\"linenos\">20</span><span class=\"w\">          </span><span class=\"nt\">100</span><span class=\"p\">:</span><span class=\"w\"> </span><span class=\"l l-Scalar l-Scalar-Plain\">frontend</span><span class=\"w\"></span>\n",
       "<span class=\"linenos\">21</span><span class=\"w\">          </span><span class=\"nt\">200</span><span class=\"p\">:</span><span class=\"w\"> </span><span class=\"l l-Scalar l-Scalar-Plain\">backend</span><span class=\"w\"></span>\n",
       "</pre></div>\n",
       "\n"
      ],
      "text/plain": [
       "<IPython.core.display.HTML object>"
      ]
     },
     "execution_count": 4,
     "metadata": {},
     "output_type": "execute_result"
    }
   ],
   "source": [
    "# groups file\n",
    "%highlight_file inventory/groups.yaml"
   ]
  },
  {
   "cell_type": "markdown",
   "metadata": {},
   "source": [
    "Finally, the defaults file has the same schema as the `Host` we described before but without outer keys to denote individual elements. We will see how the data in the groups and defaults file is used later on in this tutorial."
   ]
  },
  {
   "cell_type": "code",
   "execution_count": 5,
   "metadata": {},
   "outputs": [
    {
     "data": {
      "text/html": [
       "<style>\n",
       "pre { line-height: 125%; }\n",
       "td.linenos .normal { color: inherit; background-color: transparent; padding-left: 5px; padding-right: 5px; }\n",
       "span.linenos { color: inherit; background-color: transparent; padding-left: 5px; padding-right: 5px; }\n",
       "td.linenos .special { color: #000000; background-color: #ffffc0; padding-left: 5px; padding-right: 5px; }\n",
       "span.linenos.special { color: #000000; background-color: #ffffc0; padding-left: 5px; padding-right: 5px; }\n",
       ".pygments .hll { background-color: #ffffcc }\n",
       ".pygments .c { color: #3D7B7B; font-style: italic } /* Comment */\n",
       ".pygments .err { border: 1px solid #FF0000 } /* Error */\n",
       ".pygments .k { color: #008000; font-weight: bold } /* Keyword */\n",
       ".pygments .o { color: #666666 } /* Operator */\n",
       ".pygments .ch { color: #3D7B7B; font-style: italic } /* Comment.Hashbang */\n",
       ".pygments .cm { color: #3D7B7B; font-style: italic } /* Comment.Multiline */\n",
       ".pygments .cp { color: #9C6500 } /* Comment.Preproc */\n",
       ".pygments .cpf { color: #3D7B7B; font-style: italic } /* Comment.PreprocFile */\n",
       ".pygments .c1 { color: #3D7B7B; font-style: italic } /* Comment.Single */\n",
       ".pygments .cs { color: #3D7B7B; font-style: italic } /* Comment.Special */\n",
       ".pygments .gd { color: #A00000 } /* Generic.Deleted */\n",
       ".pygments .ge { font-style: italic } /* Generic.Emph */\n",
       ".pygments .gr { color: #E40000 } /* Generic.Error */\n",
       ".pygments .gh { color: #000080; font-weight: bold } /* Generic.Heading */\n",
       ".pygments .gi { color: #008400 } /* Generic.Inserted */\n",
       ".pygments .go { color: #717171 } /* Generic.Output */\n",
       ".pygments .gp { color: #000080; font-weight: bold } /* Generic.Prompt */\n",
       ".pygments .gs { font-weight: bold } /* Generic.Strong */\n",
       ".pygments .gu { color: #800080; font-weight: bold } /* Generic.Subheading */\n",
       ".pygments .gt { color: #0044DD } /* Generic.Traceback */\n",
       ".pygments .kc { color: #008000; font-weight: bold } /* Keyword.Constant */\n",
       ".pygments .kd { color: #008000; font-weight: bold } /* Keyword.Declaration */\n",
       ".pygments .kn { color: #008000; font-weight: bold } /* Keyword.Namespace */\n",
       ".pygments .kp { color: #008000 } /* Keyword.Pseudo */\n",
       ".pygments .kr { color: #008000; font-weight: bold } /* Keyword.Reserved */\n",
       ".pygments .kt { color: #B00040 } /* Keyword.Type */\n",
       ".pygments .m { color: #666666 } /* Literal.Number */\n",
       ".pygments .s { color: #BA2121 } /* Literal.String */\n",
       ".pygments .na { color: #687822 } /* Name.Attribute */\n",
       ".pygments .nb { color: #008000 } /* Name.Builtin */\n",
       ".pygments .nc { color: #0000FF; font-weight: bold } /* Name.Class */\n",
       ".pygments .no { color: #880000 } /* Name.Constant */\n",
       ".pygments .nd { color: #AA22FF } /* Name.Decorator */\n",
       ".pygments .ni { color: #717171; font-weight: bold } /* Name.Entity */\n",
       ".pygments .ne { color: #CB3F38; font-weight: bold } /* Name.Exception */\n",
       ".pygments .nf { color: #0000FF } /* Name.Function */\n",
       ".pygments .nl { color: #767600 } /* Name.Label */\n",
       ".pygments .nn { color: #0000FF; font-weight: bold } /* Name.Namespace */\n",
       ".pygments .nt { color: #008000; font-weight: bold } /* Name.Tag */\n",
       ".pygments .nv { color: #19177C } /* Name.Variable */\n",
       ".pygments .ow { color: #AA22FF; font-weight: bold } /* Operator.Word */\n",
       ".pygments .w { color: #bbbbbb } /* Text.Whitespace */\n",
       ".pygments .mb { color: #666666 } /* Literal.Number.Bin */\n",
       ".pygments .mf { color: #666666 } /* Literal.Number.Float */\n",
       ".pygments .mh { color: #666666 } /* Literal.Number.Hex */\n",
       ".pygments .mi { color: #666666 } /* Literal.Number.Integer */\n",
       ".pygments .mo { color: #666666 } /* Literal.Number.Oct */\n",
       ".pygments .sa { color: #BA2121 } /* Literal.String.Affix */\n",
       ".pygments .sb { color: #BA2121 } /* Literal.String.Backtick */\n",
       ".pygments .sc { color: #BA2121 } /* Literal.String.Char */\n",
       ".pygments .dl { color: #BA2121 } /* Literal.String.Delimiter */\n",
       ".pygments .sd { color: #BA2121; font-style: italic } /* Literal.String.Doc */\n",
       ".pygments .s2 { color: #BA2121 } /* Literal.String.Double */\n",
       ".pygments .se { color: #AA5D1F; font-weight: bold } /* Literal.String.Escape */\n",
       ".pygments .sh { color: #BA2121 } /* Literal.String.Heredoc */\n",
       ".pygments .si { color: #A45A77; font-weight: bold } /* Literal.String.Interpol */\n",
       ".pygments .sx { color: #008000 } /* Literal.String.Other */\n",
       ".pygments .sr { color: #A45A77 } /* Literal.String.Regex */\n",
       ".pygments .s1 { color: #BA2121 } /* Literal.String.Single */\n",
       ".pygments .ss { color: #19177C } /* Literal.String.Symbol */\n",
       ".pygments .bp { color: #008000 } /* Name.Builtin.Pseudo */\n",
       ".pygments .fm { color: #0000FF } /* Name.Function.Magic */\n",
       ".pygments .vc { color: #19177C } /* Name.Variable.Class */\n",
       ".pygments .vg { color: #19177C } /* Name.Variable.Global */\n",
       ".pygments .vi { color: #19177C } /* Name.Variable.Instance */\n",
       ".pygments .vm { color: #19177C } /* Name.Variable.Magic */\n",
       ".pygments .il { color: #666666 } /* Literal.Number.Integer.Long */span.lineno {\n",
       "    color: lightgray;\n",
       "}\n",
       "\n",
       "</style>\n",
       "<div class=\"pygments\"><pre><span></span><span class=\"linenos\">1</span><span class=\"nn\">---</span><span class=\"w\"></span>\n",
       "<span class=\"linenos\">2</span><span class=\"nt\">data</span><span class=\"p\">:</span><span class=\"w\"></span>\n",
       "<span class=\"linenos\">3</span><span class=\"w\">    </span><span class=\"nt\">domain</span><span class=\"p\">:</span><span class=\"w\"> </span><span class=\"l l-Scalar l-Scalar-Plain\">acme.local</span><span class=\"w\"></span>\n",
       "</pre></div>\n",
       "\n"
      ],
      "text/plain": [
       "<IPython.core.display.HTML object>"
      ]
     },
     "execution_count": 5,
     "metadata": {},
     "output_type": "execute_result"
    }
   ],
   "source": [
    "# defaults file\n",
    "%highlight_file inventory/defaults.yaml"
   ]
  },
  {
   "cell_type": "markdown",
   "metadata": {},
   "source": [
    "### Accessing the inventory\n",
    "\n",
    "You can access the [inventory](../api/nornir/core/inventory.html#module-nornir.core.inventory) with the `inventory` attribute:"
   ]
  },
  {
   "cell_type": "code",
   "execution_count": 6,
   "metadata": {},
   "outputs": [
    {
     "name": "stdout",
     "output_type": "stream",
     "text": [
      "{'host1.cmh': Host: host1.cmh, 'host2.cmh': Host: host2.cmh, 'spine00.cmh': Host: spine00.cmh, 'spine01.cmh': Host: spine01.cmh, 'leaf00.cmh': Host: leaf00.cmh, 'leaf01.cmh': Host: leaf01.cmh, 'host1.bma': Host: host1.bma, 'host2.bma': Host: host2.bma, 'spine00.bma': Host: spine00.bma, 'spine01.bma': Host: spine01.bma, 'leaf00.bma': Host: leaf00.bma, 'leaf01.bma': Host: leaf01.bma}\n"
     ]
    }
   ],
   "source": [
    "from nornir import InitNornir\n",
    "nr = InitNornir(config_file=\"config.yaml\")\n",
    "\n",
    "print(nr.inventory.hosts)"
   ]
  },
  {
   "cell_type": "markdown",
   "metadata": {},
   "source": [
    "The inventory has two dict-like attributes `hosts` and `groups` that you can use to access the hosts and groups respectively:"
   ]
  },
  {
   "cell_type": "code",
   "execution_count": 7,
   "metadata": {},
   "outputs": [
    {
     "data": {
      "text/plain": [
       "{'host1.cmh': Host: host1.cmh,\n",
       " 'host2.cmh': Host: host2.cmh,\n",
       " 'spine00.cmh': Host: spine00.cmh,\n",
       " 'spine01.cmh': Host: spine01.cmh,\n",
       " 'leaf00.cmh': Host: leaf00.cmh,\n",
       " 'leaf01.cmh': Host: leaf01.cmh,\n",
       " 'host1.bma': Host: host1.bma,\n",
       " 'host2.bma': Host: host2.bma,\n",
       " 'spine00.bma': Host: spine00.bma,\n",
       " 'spine01.bma': Host: spine01.bma,\n",
       " 'leaf00.bma': Host: leaf00.bma,\n",
       " 'leaf01.bma': Host: leaf01.bma}"
      ]
     },
     "execution_count": 7,
     "metadata": {},
     "output_type": "execute_result"
    }
   ],
   "source": [
    "nr.inventory.hosts"
   ]
  },
  {
   "cell_type": "code",
   "execution_count": 8,
   "metadata": {},
   "outputs": [
    {
     "data": {
      "text/plain": [
       "{'global': Group: global,\n",
       " 'eu': Group: eu,\n",
       " 'bma': Group: bma,\n",
       " 'cmh': Group: cmh}"
      ]
     },
     "execution_count": 8,
     "metadata": {},
     "output_type": "execute_result"
    }
   ],
   "source": [
    "nr.inventory.groups"
   ]
  },
  {
   "cell_type": "code",
   "execution_count": 9,
   "metadata": {},
   "outputs": [
    {
     "data": {
      "text/plain": [
       "Host: leaf01.bma"
      ]
     },
     "execution_count": 9,
     "metadata": {},
     "output_type": "execute_result"
    }
   ],
   "source": [
    "nr.inventory.hosts[\"leaf01.bma\"]"
   ]
  },
  {
   "cell_type": "markdown",
   "metadata": {},
   "source": [
    "Hosts and groups are also dict-like objects:"
   ]
  },
  {
   "cell_type": "code",
   "execution_count": 10,
   "metadata": {},
   "outputs": [
    {
     "data": {
      "text/plain": [
       "dict_keys(['site', 'role', 'type', 'asn', 'domain'])"
      ]
     },
     "execution_count": 10,
     "metadata": {},
     "output_type": "execute_result"
    }
   ],
   "source": [
    "host = nr.inventory.hosts[\"leaf01.bma\"]\n",
    "host.keys()"
   ]
  },
  {
   "cell_type": "code",
   "execution_count": 11,
   "metadata": {
    "scrolled": true
   },
   "outputs": [
    {
     "data": {
      "text/plain": [
       "'bma'"
      ]
     },
     "execution_count": 11,
     "metadata": {},
     "output_type": "execute_result"
    }
   ],
   "source": [
    "host[\"site\"]"
   ]
  },
  {
   "cell_type": "markdown",
   "metadata": {},
   "source": [
    "### Inheritance model\n",
    "\n",
    "Let's see how the inheritance models works by example. Let's start by looking again at the groups file:"
   ]
  },
  {
   "cell_type": "code",
   "execution_count": 12,
   "metadata": {},
   "outputs": [
    {
     "data": {
      "text/html": [
       "<style>\n",
       "pre { line-height: 125%; }\n",
       "td.linenos .normal { color: inherit; background-color: transparent; padding-left: 5px; padding-right: 5px; }\n",
       "span.linenos { color: inherit; background-color: transparent; padding-left: 5px; padding-right: 5px; }\n",
       "td.linenos .special { color: #000000; background-color: #ffffc0; padding-left: 5px; padding-right: 5px; }\n",
       "span.linenos.special { color: #000000; background-color: #ffffc0; padding-left: 5px; padding-right: 5px; }\n",
       ".pygments .hll { background-color: #ffffcc }\n",
       ".pygments .c { color: #3D7B7B; font-style: italic } /* Comment */\n",
       ".pygments .err { border: 1px solid #FF0000 } /* Error */\n",
       ".pygments .k { color: #008000; font-weight: bold } /* Keyword */\n",
       ".pygments .o { color: #666666 } /* Operator */\n",
       ".pygments .ch { color: #3D7B7B; font-style: italic } /* Comment.Hashbang */\n",
       ".pygments .cm { color: #3D7B7B; font-style: italic } /* Comment.Multiline */\n",
       ".pygments .cp { color: #9C6500 } /* Comment.Preproc */\n",
       ".pygments .cpf { color: #3D7B7B; font-style: italic } /* Comment.PreprocFile */\n",
       ".pygments .c1 { color: #3D7B7B; font-style: italic } /* Comment.Single */\n",
       ".pygments .cs { color: #3D7B7B; font-style: italic } /* Comment.Special */\n",
       ".pygments .gd { color: #A00000 } /* Generic.Deleted */\n",
       ".pygments .ge { font-style: italic } /* Generic.Emph */\n",
       ".pygments .gr { color: #E40000 } /* Generic.Error */\n",
       ".pygments .gh { color: #000080; font-weight: bold } /* Generic.Heading */\n",
       ".pygments .gi { color: #008400 } /* Generic.Inserted */\n",
       ".pygments .go { color: #717171 } /* Generic.Output */\n",
       ".pygments .gp { color: #000080; font-weight: bold } /* Generic.Prompt */\n",
       ".pygments .gs { font-weight: bold } /* Generic.Strong */\n",
       ".pygments .gu { color: #800080; font-weight: bold } /* Generic.Subheading */\n",
       ".pygments .gt { color: #0044DD } /* Generic.Traceback */\n",
       ".pygments .kc { color: #008000; font-weight: bold } /* Keyword.Constant */\n",
       ".pygments .kd { color: #008000; font-weight: bold } /* Keyword.Declaration */\n",
       ".pygments .kn { color: #008000; font-weight: bold } /* Keyword.Namespace */\n",
       ".pygments .kp { color: #008000 } /* Keyword.Pseudo */\n",
       ".pygments .kr { color: #008000; font-weight: bold } /* Keyword.Reserved */\n",
       ".pygments .kt { color: #B00040 } /* Keyword.Type */\n",
       ".pygments .m { color: #666666 } /* Literal.Number */\n",
       ".pygments .s { color: #BA2121 } /* Literal.String */\n",
       ".pygments .na { color: #687822 } /* Name.Attribute */\n",
       ".pygments .nb { color: #008000 } /* Name.Builtin */\n",
       ".pygments .nc { color: #0000FF; font-weight: bold } /* Name.Class */\n",
       ".pygments .no { color: #880000 } /* Name.Constant */\n",
       ".pygments .nd { color: #AA22FF } /* Name.Decorator */\n",
       ".pygments .ni { color: #717171; font-weight: bold } /* Name.Entity */\n",
       ".pygments .ne { color: #CB3F38; font-weight: bold } /* Name.Exception */\n",
       ".pygments .nf { color: #0000FF } /* Name.Function */\n",
       ".pygments .nl { color: #767600 } /* Name.Label */\n",
       ".pygments .nn { color: #0000FF; font-weight: bold } /* Name.Namespace */\n",
       ".pygments .nt { color: #008000; font-weight: bold } /* Name.Tag */\n",
       ".pygments .nv { color: #19177C } /* Name.Variable */\n",
       ".pygments .ow { color: #AA22FF; font-weight: bold } /* Operator.Word */\n",
       ".pygments .w { color: #bbbbbb } /* Text.Whitespace */\n",
       ".pygments .mb { color: #666666 } /* Literal.Number.Bin */\n",
       ".pygments .mf { color: #666666 } /* Literal.Number.Float */\n",
       ".pygments .mh { color: #666666 } /* Literal.Number.Hex */\n",
       ".pygments .mi { color: #666666 } /* Literal.Number.Integer */\n",
       ".pygments .mo { color: #666666 } /* Literal.Number.Oct */\n",
       ".pygments .sa { color: #BA2121 } /* Literal.String.Affix */\n",
       ".pygments .sb { color: #BA2121 } /* Literal.String.Backtick */\n",
       ".pygments .sc { color: #BA2121 } /* Literal.String.Char */\n",
       ".pygments .dl { color: #BA2121 } /* Literal.String.Delimiter */\n",
       ".pygments .sd { color: #BA2121; font-style: italic } /* Literal.String.Doc */\n",
       ".pygments .s2 { color: #BA2121 } /* Literal.String.Double */\n",
       ".pygments .se { color: #AA5D1F; font-weight: bold } /* Literal.String.Escape */\n",
       ".pygments .sh { color: #BA2121 } /* Literal.String.Heredoc */\n",
       ".pygments .si { color: #A45A77; font-weight: bold } /* Literal.String.Interpol */\n",
       ".pygments .sx { color: #008000 } /* Literal.String.Other */\n",
       ".pygments .sr { color: #A45A77 } /* Literal.String.Regex */\n",
       ".pygments .s1 { color: #BA2121 } /* Literal.String.Single */\n",
       ".pygments .ss { color: #19177C } /* Literal.String.Symbol */\n",
       ".pygments .bp { color: #008000 } /* Name.Builtin.Pseudo */\n",
       ".pygments .fm { color: #0000FF } /* Name.Function.Magic */\n",
       ".pygments .vc { color: #19177C } /* Name.Variable.Class */\n",
       ".pygments .vg { color: #19177C } /* Name.Variable.Global */\n",
       ".pygments .vi { color: #19177C } /* Name.Variable.Instance */\n",
       ".pygments .vm { color: #19177C } /* Name.Variable.Magic */\n",
       ".pygments .il { color: #666666 } /* Literal.Number.Integer.Long */span.lineno {\n",
       "    color: lightgray;\n",
       "}\n",
       "\n",
       "</style>\n",
       "<div class=\"pygments\"><pre><span></span><span class=\"linenos\"> 1</span><span class=\"nn\">---</span><span class=\"w\"></span>\n",
       "<span class=\"linenos\"> 2</span><span class=\"nt\">global</span><span class=\"p\">:</span><span class=\"w\"></span>\n",
       "<span class=\"linenos\"> 3</span><span class=\"w\">    </span><span class=\"nt\">data</span><span class=\"p\">:</span><span class=\"w\"></span>\n",
       "<span class=\"linenos\"> 4</span><span class=\"w\">        </span><span class=\"nt\">domain</span><span class=\"p\">:</span><span class=\"w\"> </span><span class=\"l l-Scalar l-Scalar-Plain\">global.local</span><span class=\"w\"></span>\n",
       "<span class=\"linenos\"> 5</span><span class=\"w\">        </span><span class=\"nt\">asn</span><span class=\"p\">:</span><span class=\"w\"> </span><span class=\"l l-Scalar l-Scalar-Plain\">1</span><span class=\"w\"></span>\n",
       "<span class=\"linenos\"> 6</span>\n",
       "<span class=\"linenos\"> 7</span><span class=\"nt\">eu</span><span class=\"p\">:</span><span class=\"w\"></span>\n",
       "<span class=\"linenos\"> 8</span><span class=\"w\">    </span><span class=\"nt\">data</span><span class=\"p\">:</span><span class=\"w\"></span>\n",
       "<span class=\"linenos\"> 9</span><span class=\"w\">        </span><span class=\"nt\">asn</span><span class=\"p\">:</span><span class=\"w\"> </span><span class=\"l l-Scalar l-Scalar-Plain\">65100</span><span class=\"w\"></span>\n",
       "<span class=\"linenos\">10</span>\n",
       "<span class=\"linenos\">11</span><span class=\"nt\">bma</span><span class=\"p\">:</span><span class=\"w\"></span>\n",
       "<span class=\"linenos\">12</span><span class=\"w\">    </span><span class=\"nt\">groups</span><span class=\"p\">:</span><span class=\"w\"></span>\n",
       "<span class=\"linenos\">13</span><span class=\"w\">        </span><span class=\"p p-Indicator\">-</span><span class=\"w\"> </span><span class=\"l l-Scalar l-Scalar-Plain\">eu</span><span class=\"w\"></span>\n",
       "<span class=\"linenos\">14</span><span class=\"w\">        </span><span class=\"p p-Indicator\">-</span><span class=\"w\"> </span><span class=\"l l-Scalar l-Scalar-Plain\">global</span><span class=\"w\"></span>\n",
       "<span class=\"linenos\">15</span>\n",
       "<span class=\"linenos\">16</span><span class=\"nt\">cmh</span><span class=\"p\">:</span><span class=\"w\"></span>\n",
       "<span class=\"linenos\">17</span><span class=\"w\">    </span><span class=\"nt\">data</span><span class=\"p\">:</span><span class=\"w\"></span>\n",
       "<span class=\"linenos\">18</span><span class=\"w\">        </span><span class=\"nt\">asn</span><span class=\"p\">:</span><span class=\"w\"> </span><span class=\"l l-Scalar l-Scalar-Plain\">65000</span><span class=\"w\"></span>\n",
       "<span class=\"linenos\">19</span><span class=\"w\">        </span><span class=\"nt\">vlans</span><span class=\"p\">:</span><span class=\"w\"></span>\n",
       "<span class=\"linenos\">20</span><span class=\"w\">          </span><span class=\"nt\">100</span><span class=\"p\">:</span><span class=\"w\"> </span><span class=\"l l-Scalar l-Scalar-Plain\">frontend</span><span class=\"w\"></span>\n",
       "<span class=\"linenos\">21</span><span class=\"w\">          </span><span class=\"nt\">200</span><span class=\"p\">:</span><span class=\"w\"> </span><span class=\"l l-Scalar l-Scalar-Plain\">backend</span><span class=\"w\"></span>\n",
       "</pre></div>\n",
       "\n"
      ],
      "text/plain": [
       "<IPython.core.display.HTML object>"
      ]
     },
     "execution_count": 12,
     "metadata": {},
     "output_type": "execute_result"
    }
   ],
   "source": [
    "# groups file\n",
    "%highlight_file inventory/groups.yaml"
   ]
  },
  {
   "cell_type": "markdown",
   "metadata": {},
   "source": [
    "The host `leaf01.bma` belongs to the group `bma` which in turn belongs to the groups `eu` and `global`. The host `spine00.cmh` belongs to the group `cmh` which doesn't belong to any other group.\n",
    "\n",
    "Data resolution works by iterating recursively over all the parent groups and trying to see if that parent group (or any of it's parents) contains the data. For instance:"
   ]
  },
  {
   "cell_type": "code",
   "execution_count": 13,
   "metadata": {},
   "outputs": [
    {
     "data": {
      "text/plain": [
       "'global.local'"
      ]
     },
     "execution_count": 13,
     "metadata": {},
     "output_type": "execute_result"
    }
   ],
   "source": [
    "leaf01_bma = nr.inventory.hosts[\"leaf01.bma\"]\n",
    "leaf01_bma[\"domain\"]  # comes from the group `global`"
   ]
  },
  {
   "cell_type": "code",
   "execution_count": 14,
   "metadata": {},
   "outputs": [
    {
     "data": {
      "text/plain": [
       "65100"
      ]
     },
     "execution_count": 14,
     "metadata": {},
     "output_type": "execute_result"
    }
   ],
   "source": [
    "leaf01_bma[\"asn\"]  # comes from group `eu`"
   ]
  },
  {
   "cell_type": "markdown",
   "metadata": {},
   "source": [
    "Values in `defaults` will be returned if neither the host nor the parents have a specific value for it."
   ]
  },
  {
   "cell_type": "code",
   "execution_count": 15,
   "metadata": {},
   "outputs": [
    {
     "data": {
      "text/plain": [
       "'acme.local'"
      ]
     },
     "execution_count": 15,
     "metadata": {},
     "output_type": "execute_result"
    }
   ],
   "source": [
    "leaf01_cmh = nr.inventory.hosts[\"leaf01.cmh\"]\n",
    "leaf01_cmh[\"domain\"]  # comes from defaults"
   ]
  },
  {
   "cell_type": "markdown",
   "metadata": {},
   "source": [
    "If nornir can't resolve the data you should get a KeyError as usual:"
   ]
  },
  {
   "cell_type": "code",
   "execution_count": 16,
   "metadata": {},
   "outputs": [
    {
     "name": "stdout",
     "output_type": "stream",
     "text": [
      "Couldn't find key: 'non_existent'\n"
     ]
    }
   ],
   "source": [
    "try:\n",
    "    leaf01_cmh[\"non_existent\"]\n",
    "except KeyError as e:\n",
    "    print(f\"Couldn't find key: {e}\")"
   ]
  },
  {
   "cell_type": "markdown",
   "metadata": {},
   "source": [
    "You can also try to access data without recursive resolution by using the `data` attribute. For example, if we try to access `leaf01_cmh.data[\"domain\"]` we should get an error as the host itself doesn't have that data:"
   ]
  },
  {
   "cell_type": "code",
   "execution_count": 17,
   "metadata": {},
   "outputs": [
    {
     "name": "stdout",
     "output_type": "stream",
     "text": [
      "Couldn't find key: 'domain'\n"
     ]
    }
   ],
   "source": [
    "try:\n",
    "    leaf01_cmh.data[\"domain\"]\n",
    "except KeyError as e:\n",
    "    print(f\"Couldn't find key: {e}\")"
   ]
  },
  {
   "cell_type": "markdown",
   "metadata": {},
   "source": [
    "### Filtering the inventory\n",
    "\n",
    "So far we have seen that `nr.inventory.hosts` and `nr.inventory.groups` are dict-like objects that we can use to iterate over all the hosts and groups or to access any particular one directly. Now we are going to see how we can do some fancy filtering that will enable us to operate on groups of hosts based on their properties.\n",
    "\n",
    "The simpler way of filtering hosts is by `<key, value>` pairs. For instance:"
   ]
  },
  {
   "cell_type": "code",
   "execution_count": 18,
   "metadata": {},
   "outputs": [
    {
     "data": {
      "text/plain": [
       "dict_keys(['host1.cmh', 'host2.cmh', 'spine00.cmh', 'spine01.cmh', 'leaf00.cmh', 'leaf01.cmh'])"
      ]
     },
     "execution_count": 18,
     "metadata": {},
     "output_type": "execute_result"
    }
   ],
   "source": [
    "nr.filter(site=\"cmh\").inventory.hosts.keys()"
   ]
  },
  {
   "cell_type": "markdown",
   "metadata": {},
   "source": [
    "You can also filter using multiple `<key, value>` pairs:"
   ]
  },
  {
   "cell_type": "code",
   "execution_count": 19,
   "metadata": {},
   "outputs": [
    {
     "data": {
      "text/plain": [
       "dict_keys(['spine00.cmh', 'spine01.cmh'])"
      ]
     },
     "execution_count": 19,
     "metadata": {},
     "output_type": "execute_result"
    }
   ],
   "source": [
    "nr.filter(site=\"cmh\", role=\"spine\").inventory.hosts.keys()"
   ]
  },
  {
   "cell_type": "markdown",
   "metadata": {},
   "source": [
    "Filter is cumulative:"
   ]
  },
  {
   "cell_type": "code",
   "execution_count": 20,
   "metadata": {},
   "outputs": [
    {
     "data": {
      "text/plain": [
       "dict_keys(['spine00.cmh', 'spine01.cmh'])"
      ]
     },
     "execution_count": 20,
     "metadata": {},
     "output_type": "execute_result"
    }
   ],
   "source": [
    "nr.filter(site=\"cmh\").filter(role=\"spine\").inventory.hosts.keys()"
   ]
  },
  {
   "cell_type": "markdown",
   "metadata": {},
   "source": [
    "Or:"
   ]
  },
  {
   "cell_type": "code",
   "execution_count": 21,
   "metadata": {},
   "outputs": [
    {
     "data": {
      "text/plain": [
       "dict_keys(['spine00.cmh', 'spine01.cmh'])"
      ]
     },
     "execution_count": 21,
     "metadata": {},
     "output_type": "execute_result"
    }
   ],
   "source": [
    "cmh = nr.filter(site=\"cmh\")\n",
    "cmh.filter(role=\"spine\").inventory.hosts.keys()"
   ]
  },
  {
   "cell_type": "code",
   "execution_count": 22,
   "metadata": {},
   "outputs": [
    {
     "data": {
      "text/plain": [
       "dict_keys(['leaf00.cmh', 'leaf01.cmh'])"
      ]
     },
     "execution_count": 22,
     "metadata": {},
     "output_type": "execute_result"
    }
   ],
   "source": [
    "cmh.filter(role=\"leaf\").inventory.hosts.keys()"
   ]
  },
  {
   "cell_type": "markdown",
   "metadata": {},
   "source": [
    "You can also grab the children of a group:"
   ]
  },
  {
   "cell_type": "code",
   "execution_count": 23,
   "metadata": {},
   "outputs": [
    {
     "data": {
      "text/plain": [
       "{Host: host1.bma,\n",
       " Host: host2.bma,\n",
       " Host: leaf00.bma,\n",
       " Host: leaf01.bma,\n",
       " Host: spine00.bma,\n",
       " Host: spine01.bma}"
      ]
     },
     "execution_count": 23,
     "metadata": {},
     "output_type": "execute_result"
    }
   ],
   "source": [
    "nr.inventory.children_of_group(\"eu\")"
   ]
  },
  {
   "cell_type": "markdown",
   "metadata": {},
   "source": [
    "#### Advanced filtering\n",
    "\n",
    "Sometimes you need more fancy filtering. For those cases you have two options:\n",
    "\n",
    "1. Use a filter function.\n",
    "2. Use a filter object.\n",
    "\n",
    "##### Filter functions\n",
    "\n",
    "The ``filter_func`` parameter let's you run your own code to filter the hosts. The function signature is as simple as ``my_func(host)`` where host is an object of type [Host](../api/nornir/core/inventory.html#nornir.core.inventory.Host) and it has to return either ``True`` or ``False`` to indicate if you want to host or not."
   ]
  },
  {
   "cell_type": "code",
   "execution_count": 24,
   "metadata": {},
   "outputs": [
    {
     "data": {
      "text/plain": [
       "dict_keys(['spine00.cmh', 'spine01.cmh', 'spine00.bma', 'spine01.bma'])"
      ]
     },
     "execution_count": 24,
     "metadata": {},
     "output_type": "execute_result"
    }
   ],
   "source": [
    "def has_long_name(host):\n",
    "    return len(host.name) == 11\n",
    "\n",
    "nr.filter(filter_func=has_long_name).inventory.hosts.keys()"
   ]
  },
  {
   "cell_type": "code",
   "execution_count": 25,
   "metadata": {},
   "outputs": [
    {
     "data": {
      "text/plain": [
       "dict_keys(['host1.cmh', 'host2.cmh', 'host1.bma', 'host2.bma'])"
      ]
     },
     "execution_count": 25,
     "metadata": {},
     "output_type": "execute_result"
    }
   ],
   "source": [
    "# Or a lambda function\n",
    "nr.filter(filter_func=lambda h: len(h.name) == 9).inventory.hosts.keys()"
   ]
  },
  {
   "cell_type": "markdown",
   "metadata": {},
   "source": [
    "##### Filter Object\n",
    "\n",
    "You can also use a filter objects to incrementally create a complex query objects. Let's see how it works by example:"
   ]
  },
  {
   "cell_type": "code",
   "execution_count": 26,
   "metadata": {},
   "outputs": [],
   "source": [
    "# first you need to import the F object\n",
    "from nornir.core.filter import F"
   ]
  },
  {
   "cell_type": "code",
   "execution_count": 27,
   "metadata": {},
   "outputs": [
    {
     "name": "stdout",
     "output_type": "stream",
     "text": [
      "dict_keys(['host1.cmh', 'host2.cmh', 'spine00.cmh', 'spine01.cmh', 'leaf00.cmh', 'leaf01.cmh'])\n"
     ]
    }
   ],
   "source": [
    "# hosts in group cmh\n",
    "cmh = nr.filter(F(groups__contains=\"cmh\"))\n",
    "print(cmh.inventory.hosts.keys())"
   ]
  },
  {
   "cell_type": "code",
   "execution_count": 28,
   "metadata": {},
   "outputs": [
    {
     "name": "stdout",
     "output_type": "stream",
     "text": [
      "dict_keys(['host1.cmh', 'host2.cmh', 'spine00.cmh', 'leaf00.cmh', 'host1.bma', 'host2.bma', 'spine00.bma', 'leaf00.bma'])\n"
     ]
    }
   ],
   "source": [
    "# devices running either linux or eos\n",
    "linux_or_eos = nr.filter(F(platform=\"linux\") | F(platform=\"eos\"))\n",
    "print(linux_or_eos.inventory.hosts.keys())"
   ]
  },
  {
   "cell_type": "code",
   "execution_count": 29,
   "metadata": {},
   "outputs": [
    {
     "name": "stdout",
     "output_type": "stream",
     "text": [
      "dict_keys(['spine00.cmh', 'spine01.cmh'])\n"
     ]
    }
   ],
   "source": [
    "# spines in cmh\n",
    "cmh_and_spine = nr.filter(F(groups__contains=\"cmh\") & F(role=\"spine\"))\n",
    "print(cmh_and_spine.inventory.hosts.keys())"
   ]
  },
  {
   "cell_type": "code",
   "execution_count": 30,
   "metadata": {},
   "outputs": [
    {
     "name": "stdout",
     "output_type": "stream",
     "text": [
      "dict_keys(['host1.cmh', 'host2.cmh', 'leaf00.cmh', 'leaf01.cmh'])\n"
     ]
    }
   ],
   "source": [
    "# cmh devices that are not spines\n",
    "cmh_and_not_spine = nr.filter(F(groups__contains=\"cmh\") & ~F(role=\"spine\"))\n",
    "print(cmh_and_not_spine.inventory.hosts.keys())"
   ]
  },
  {
   "cell_type": "markdown",
   "metadata": {},
   "source": [
    "You can also access nested data and even check if dicts/lists/strings contains elements. Again, let's see by example:"
   ]
  },
  {
   "cell_type": "code",
   "execution_count": 31,
   "metadata": {},
   "outputs": [
    {
     "name": "stdout",
     "output_type": "stream",
     "text": [
      "dict_keys(['host1.cmh'])\n"
     ]
    }
   ],
   "source": [
    "nested_string_asd = nr.filter(F(nested_data__a_string__contains=\"asd\"))\n",
    "print(nested_string_asd.inventory.hosts.keys())"
   ]
  },
  {
   "cell_type": "code",
   "execution_count": 32,
   "metadata": {},
   "outputs": [
    {
     "name": "stdout",
     "output_type": "stream",
     "text": [
      "dict_keys(['host2.cmh'])\n"
     ]
    }
   ],
   "source": [
    "a_dict_element_equals = nr.filter(F(nested_data__a_dict__c=3))\n",
    "print(a_dict_element_equals.inventory.hosts.keys())"
   ]
  },
  {
   "cell_type": "code",
   "execution_count": 33,
   "metadata": {},
   "outputs": [
    {
     "name": "stdout",
     "output_type": "stream",
     "text": [
      "dict_keys(['host1.cmh', 'host2.cmh'])\n"
     ]
    }
   ],
   "source": [
    "a_list_contains = nr.filter(F(nested_data__a_list__contains=2))\n",
    "print(a_list_contains.inventory.hosts.keys())"
   ]
  },
  {
   "cell_type": "markdown",
   "metadata": {},
   "source": [
    "You can basically access any nested data by separating the elements in the path with two underscores `__`. Then you can use `__contains` to check if an element exists or if a string has a particular substring."
   ]
  }
 ],
 "metadata": {
  "celltoolbar": "Edit Metadata",
  "kernelspec": {
   "display_name": "Python 3",
   "language": "python",
   "name": "python3"
  },
  "language_info": {
   "codemirror_mode": {
    "name": "ipython",
    "version": 3
   },
   "file_extension": ".py",
   "mimetype": "text/x-python",
   "name": "python",
   "nbconvert_exporter": "python",
   "pygments_lexer": "ipython3",
   "version": "3.8.10"
  }
 },
 "nbformat": 4,
 "nbformat_minor": 2
}

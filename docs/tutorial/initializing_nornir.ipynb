{
 "cells": [
  {
   "cell_type": "code",
   "execution_count": 1,
   "metadata": {
    "nbsphinx": "hidden"
   },
   "outputs": [],
   "source": [
    "# ignore this cell, this is just a helper cell to provide the magic %highlight_file\n",
    "%run ../highlighter.py"
   ]
  },
  {
   "cell_type": "markdown",
   "metadata": {},
   "source": [
    "# Initializing Nornir\n",
    "\n",
    "Easiest way of initializing nornir is with the function [InitNornir](../api/nornir/__init__.html#nornir.__init__.InitNornir).\n",
    "\n",
    "With `InitNornir` you can initialize nornir with a configuration file, with code or with a combination of both.\n",
    "\n",
    "Let's start with [a configuration file](../configuration/index.html):"
   ]
  },
  {
   "cell_type": "code",
   "execution_count": 2,
   "metadata": {},
   "outputs": [
    {
     "data": {
      "text/html": [
       "<style>\n",
       "pre { line-height: 125%; }\n",
       "td.linenos .normal { color: inherit; background-color: transparent; padding-left: 5px; padding-right: 5px; }\n",
       "span.linenos { color: inherit; background-color: transparent; padding-left: 5px; padding-right: 5px; }\n",
       "td.linenos .special { color: #000000; background-color: #ffffc0; padding-left: 5px; padding-right: 5px; }\n",
       "span.linenos.special { color: #000000; background-color: #ffffc0; padding-left: 5px; padding-right: 5px; }\n",
       ".pygments .hll { background-color: #ffffcc }\n",
       ".pygments .c { color: #3D7B7B; font-style: italic } /* Comment */\n",
       ".pygments .err { border: 1px solid #FF0000 } /* Error */\n",
       ".pygments .k { color: #008000; font-weight: bold } /* Keyword */\n",
       ".pygments .o { color: #666666 } /* Operator */\n",
       ".pygments .ch { color: #3D7B7B; font-style: italic } /* Comment.Hashbang */\n",
       ".pygments .cm { color: #3D7B7B; font-style: italic } /* Comment.Multiline */\n",
       ".pygments .cp { color: #9C6500 } /* Comment.Preproc */\n",
       ".pygments .cpf { color: #3D7B7B; font-style: italic } /* Comment.PreprocFile */\n",
       ".pygments .c1 { color: #3D7B7B; font-style: italic } /* Comment.Single */\n",
       ".pygments .cs { color: #3D7B7B; font-style: italic } /* Comment.Special */\n",
       ".pygments .gd { color: #A00000 } /* Generic.Deleted */\n",
       ".pygments .ge { font-style: italic } /* Generic.Emph */\n",
       ".pygments .ges { font-weight: bold; font-style: italic } /* Generic.EmphStrong */\n",
       ".pygments .gr { color: #E40000 } /* Generic.Error */\n",
       ".pygments .gh { color: #000080; font-weight: bold } /* Generic.Heading */\n",
       ".pygments .gi { color: #008400 } /* Generic.Inserted */\n",
       ".pygments .go { color: #717171 } /* Generic.Output */\n",
       ".pygments .gp { color: #000080; font-weight: bold } /* Generic.Prompt */\n",
       ".pygments .gs { font-weight: bold } /* Generic.Strong */\n",
       ".pygments .gu { color: #800080; font-weight: bold } /* Generic.Subheading */\n",
       ".pygments .gt { color: #0044DD } /* Generic.Traceback */\n",
       ".pygments .kc { color: #008000; font-weight: bold } /* Keyword.Constant */\n",
       ".pygments .kd { color: #008000; font-weight: bold } /* Keyword.Declaration */\n",
       ".pygments .kn { color: #008000; font-weight: bold } /* Keyword.Namespace */\n",
       ".pygments .kp { color: #008000 } /* Keyword.Pseudo */\n",
       ".pygments .kr { color: #008000; font-weight: bold } /* Keyword.Reserved */\n",
       ".pygments .kt { color: #B00040 } /* Keyword.Type */\n",
       ".pygments .m { color: #666666 } /* Literal.Number */\n",
       ".pygments .s { color: #BA2121 } /* Literal.String */\n",
       ".pygments .na { color: #687822 } /* Name.Attribute */\n",
       ".pygments .nb { color: #008000 } /* Name.Builtin */\n",
       ".pygments .nc { color: #0000FF; font-weight: bold } /* Name.Class */\n",
       ".pygments .no { color: #880000 } /* Name.Constant */\n",
       ".pygments .nd { color: #AA22FF } /* Name.Decorator */\n",
       ".pygments .ni { color: #717171; font-weight: bold } /* Name.Entity */\n",
       ".pygments .ne { color: #CB3F38; font-weight: bold } /* Name.Exception */\n",
       ".pygments .nf { color: #0000FF } /* Name.Function */\n",
       ".pygments .nl { color: #767600 } /* Name.Label */\n",
       ".pygments .nn { color: #0000FF; font-weight: bold } /* Name.Namespace */\n",
       ".pygments .nt { color: #008000; font-weight: bold } /* Name.Tag */\n",
       ".pygments .nv { color: #19177C } /* Name.Variable */\n",
       ".pygments .ow { color: #AA22FF; font-weight: bold } /* Operator.Word */\n",
       ".pygments .w { color: #bbbbbb } /* Text.Whitespace */\n",
       ".pygments .mb { color: #666666 } /* Literal.Number.Bin */\n",
       ".pygments .mf { color: #666666 } /* Literal.Number.Float */\n",
       ".pygments .mh { color: #666666 } /* Literal.Number.Hex */\n",
       ".pygments .mi { color: #666666 } /* Literal.Number.Integer */\n",
       ".pygments .mo { color: #666666 } /* Literal.Number.Oct */\n",
       ".pygments .sa { color: #BA2121 } /* Literal.String.Affix */\n",
       ".pygments .sb { color: #BA2121 } /* Literal.String.Backtick */\n",
       ".pygments .sc { color: #BA2121 } /* Literal.String.Char */\n",
       ".pygments .dl { color: #BA2121 } /* Literal.String.Delimiter */\n",
       ".pygments .sd { color: #BA2121; font-style: italic } /* Literal.String.Doc */\n",
       ".pygments .s2 { color: #BA2121 } /* Literal.String.Double */\n",
       ".pygments .se { color: #AA5D1F; font-weight: bold } /* Literal.String.Escape */\n",
       ".pygments .sh { color: #BA2121 } /* Literal.String.Heredoc */\n",
       ".pygments .si { color: #A45A77; font-weight: bold } /* Literal.String.Interpol */\n",
       ".pygments .sx { color: #008000 } /* Literal.String.Other */\n",
       ".pygments .sr { color: #A45A77 } /* Literal.String.Regex */\n",
       ".pygments .s1 { color: #BA2121 } /* Literal.String.Single */\n",
       ".pygments .ss { color: #19177C } /* Literal.String.Symbol */\n",
       ".pygments .bp { color: #008000 } /* Name.Builtin.Pseudo */\n",
       ".pygments .fm { color: #0000FF } /* Name.Function.Magic */\n",
       ".pygments .vc { color: #19177C } /* Name.Variable.Class */\n",
       ".pygments .vg { color: #19177C } /* Name.Variable.Global */\n",
       ".pygments .vi { color: #19177C } /* Name.Variable.Instance */\n",
       ".pygments .vm { color: #19177C } /* Name.Variable.Magic */\n",
       ".pygments .il { color: #666666 } /* Literal.Number.Integer.Long */span.lineno {\n",
       "    color: lightgray;\n",
       "}\n",
       "\n",
       "</style>\n",
       "<div class=\"pygments\"><pre><span></span><span class=\"linenos\"> 1</span><span class=\"nn\">---</span>\n",
       "<span class=\"linenos\"> 2</span><span class=\"nt\">inventory</span><span class=\"p\">:</span>\n",
       "<span class=\"linenos\"> 3</span><span class=\"w\">    </span><span class=\"nt\">plugin</span><span class=\"p\">:</span><span class=\"w\"> </span><span class=\"l l-Scalar l-Scalar-Plain\">SimpleInventory</span>\n",
       "<span class=\"linenos\"> 4</span><span class=\"w\">    </span><span class=\"nt\">options</span><span class=\"p\">:</span>\n",
       "<span class=\"linenos\"> 5</span><span class=\"w\">        </span><span class=\"nt\">host_file</span><span class=\"p\">:</span><span class=\"w\"> </span><span class=\"s\">&quot;inventory/hosts.yaml&quot;</span>\n",
       "<span class=\"linenos\"> 6</span><span class=\"w\">        </span><span class=\"nt\">group_file</span><span class=\"p\">:</span><span class=\"w\"> </span><span class=\"s\">&quot;inventory/groups.yaml&quot;</span>\n",
       "<span class=\"linenos\"> 7</span><span class=\"w\">        </span><span class=\"nt\">defaults_file</span><span class=\"p\">:</span><span class=\"w\"> </span><span class=\"s\">&quot;inventory/defaults.yaml&quot;</span>\n",
       "<span class=\"linenos\"> 8</span><span class=\"nt\">runner</span><span class=\"p\">:</span>\n",
       "<span class=\"linenos\"> 9</span><span class=\"w\">    </span><span class=\"nt\">plugin</span><span class=\"p\">:</span><span class=\"w\"> </span><span class=\"l l-Scalar l-Scalar-Plain\">threaded</span>\n",
       "<span class=\"linenos\">10</span><span class=\"w\">    </span><span class=\"nt\">options</span><span class=\"p\">:</span>\n",
       "<span class=\"linenos\">11</span><span class=\"w\">        </span><span class=\"nt\">num_workers</span><span class=\"p\">:</span><span class=\"w\"> </span><span class=\"l l-Scalar l-Scalar-Plain\">100</span>\n",
       "</pre></div>\n",
       "\n"
      ],
      "text/plain": [
       "<IPython.core.display.HTML object>"
      ]
     },
     "execution_count": 2,
     "metadata": {},
     "output_type": "execute_result"
    }
   ],
   "source": [
    "%highlight_file config.yaml"
   ]
  },
  {
   "cell_type": "markdown",
   "metadata": {},
   "source": [
    "Now to create the [nornir](../api/nornir/init_nornir.html#nornir.init_nornir.InitNornir) object:"
   ]
  },
  {
   "cell_type": "code",
   "execution_count": 3,
   "metadata": {},
   "outputs": [],
   "source": [
    "from nornir import InitNornir\n",
    "nr = InitNornir(config_file=\"config.yaml\")"
   ]
  },
  {
   "cell_type": "markdown",
   "metadata": {},
   "source": [
    "You can also initialize nornir programmatically without a configuration file:"
   ]
  },
  {
   "cell_type": "code",
   "execution_count": 4,
   "metadata": {},
   "outputs": [],
   "source": [
    "from nornir import InitNornir\n",
    "nr = InitNornir(\n",
    "    runner={\n",
    "        \"plugin\": \"threaded\",\n",
    "        \"options\": {\n",
    "            \"num_workers\": 100,\n",
    "        },\n",
    "    },\n",
    "    inventory={\n",
    "        \"plugin\": \"SimpleInventory\",\n",
    "        \"options\": {\n",
    "            \"host_file\": \"inventory/hosts.yaml\",\n",
    "            \"group_file\": \"inventory/groups.yaml\"\n",
    "        },\n",
    "    },\n",
    ")"
   ]
  },
  {
   "cell_type": "markdown",
   "metadata": {},
   "source": [
    "Or with a combination of both methods:"
   ]
  },
  {
   "cell_type": "code",
   "execution_count": 5,
   "metadata": {},
   "outputs": [],
   "source": [
    "from nornir import InitNornir\n",
    "nr = InitNornir(\n",
    "    config_file=\"config.yaml\",\n",
    "    runner={\n",
    "        \"plugin\": \"threaded\",\n",
    "        \"options\": {\n",
    "            \"num_workers\": 50,\n",
    "        },\n",
    "    },\n",
    ")"
   ]
  },
  {
   "cell_type": "code",
   "execution_count": 6,
   "metadata": {},
   "outputs": [
    {
     "data": {
      "text/plain": [
       "50"
      ]
     },
     "execution_count": 6,
     "metadata": {},
     "output_type": "execute_result"
    }
   ],
   "source": [
    "nr.config.runner.options[\"num_workers\"]"
   ]
  }
 ],
 "metadata": {
  "kernelspec": {
   "display_name": "Python 3",
   "language": "python",
   "name": "python3"
  },
  "language_info": {
   "codemirror_mode": {
    "name": "ipython",
    "version": 3
   },
   "file_extension": ".py",
   "mimetype": "text/x-python",
   "name": "python",
   "nbconvert_exporter": "python",
   "pygments_lexer": "ipython3",
   "version": "3.8.10"
  }
 },
 "nbformat": 4,
 "nbformat_minor": 2
}

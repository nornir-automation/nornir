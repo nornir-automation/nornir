{
 "cells": [
  {
   "cell_type": "markdown",
   "metadata": {},
   "source": [
    "# Processors\n",
    "\n",
    "Processors are plugins that can execute code on certain events. For more information on those events check the [class documentation](../../ref/api/processors.rst).\n",
    "\n",
    "You can see processors as an alternative way of dealing with the results of a task, however, it has a few advantages:\n",
    "\n",
    "1. Due to its event-based nature, you can process the events asynchronously. This means that you will be processing the result of a host exactly once the host is completed without the need to wait for the rest of the hosts to complete.\n",
    "2. Because you are tapping into events code is more concise and easier to understand.\n",
    "\n",
    "Let's see how processors work with a few examples. Let's start by loading the nornir object and some libraries we will need:"
   ]
  },
  {
   "cell_type": "code",
   "execution_count": 1,
   "metadata": {},
   "outputs": [],
   "source": [
    "from typing import Dict\n",
    "\n",
    "from nornir import InitNornir\n",
    "\n",
    "nr = InitNornir(config_file=\"config.yaml\")"
   ]
  },
  {
   "cell_type": "markdown",
   "metadata": {},
   "source": [
    "Now let's write a processor that will print on screen some information about the execution of the task:"
   ]
  },
  {
   "cell_type": "code",
   "execution_count": 2,
   "metadata": {},
   "outputs": [],
   "source": [
    "# note that these imports are only needed if you are annotating your code with types\n",
    "from typing import Dict\n",
    "\n",
    "from nornir.core import Nornir\n",
    "from nornir.core.inventory import Host\n",
    "from nornir.core.task import AggregatedResult, MultiResult, Result, Task\n",
    "\n",
    "class PrintResult:\n",
    "    def task_started(self, task: Task) -> None:        \n",
    "        print(f\">>> starting: {task.name}\")\n",
    "    \n",
    "    def task_completed(self, task: Task, result: AggregatedResult) -> None:\n",
    "        print(f\">>> completed: {task.name}\")\n",
    "        \n",
    "    def task_instance_started(self, task: Task, host: Host) -> None:\n",
    "        pass\n",
    "    \n",
    "    def task_instance_completed(\n",
    "        self, task: Task, host: Host, result: MultiResult\n",
    "    ) -> None:\n",
    "        print(f\"  - {host.name}: - {result.result}\")\n",
    "        \n",
    "    def subtask_instance_started(self, task: Task, host: Host) -> None:\n",
    "        pass  # to keep example short and sweet we ignore subtasks\n",
    "\n",
    "    def subtask_instance_completed(\n",
    "        self, task: Task, host: Host, result: MultiResult\n",
    "    ) -> None:\n",
    "        pass  # to keep example short and sweet we ignore subtasks"
   ]
  },
  {
   "cell_type": "markdown",
   "metadata": {},
   "source": [
    "Now we are going to write another processor that will save some information about the task in a dictionary:"
   ]
  },
  {
   "cell_type": "code",
   "execution_count": 3,
   "metadata": {},
   "outputs": [],
   "source": [
    "class SaveResultToDict:\n",
    "    def __init__(self, data: Dict[str, None]) -> None:\n",
    "        self.data = data\n",
    "\n",
    "    def task_started(self, task: Task) -> None:\n",
    "        self.data[task.name] = {}\n",
    "        self.data[task.name][\"started\"] = True\n",
    "\n",
    "    def task_completed(self, task: Task, result: AggregatedResult) -> None:\n",
    "        self.data[task.name][\"completed\"] = True\n",
    "\n",
    "    def task_instance_started(self, task: Task, host: Host) -> None:\n",
    "        self.data[task.name][host.name] = {\"started\": True}\n",
    "\n",
    "    def task_instance_completed(\n",
    "        self, task: Task, host: Host, result: MultiResult\n",
    "    ) -> None:\n",
    "        self.data[task.name][host.name] = {\n",
    "            \"completed\": True,\n",
    "            \"result\": result.result,\n",
    "        }\n",
    "        \n",
    "    def subtask_instance_started(self, task: Task, host: Host) -> None:\n",
    "        pass  # to keep example short and sweet we ignore subtasks\n",
    "\n",
    "    def subtask_instance_completed(\n",
    "        self, task: Task, host: Host, result: MultiResult\n",
    "    ) -> None:\n",
    "        pass  # to keep example short and sweet we ignore subtasks"
   ]
  },
  {
   "cell_type": "markdown",
   "metadata": {},
   "source": [
    "Finally, to test the processors we are going to use a very simple task that will just greet us on behalf of each device:"
   ]
  },
  {
   "cell_type": "code",
   "execution_count": 4,
   "metadata": {},
   "outputs": [],
   "source": [
    "def greeter(task: Task, greet: str) -> Result:\n",
    "    return Result(host=task.host, result=f\"{greet}! my name is {task.host.name}\")"
   ]
  },
  {
   "cell_type": "markdown",
   "metadata": {},
   "source": [
    "Hopefully everything is clear so far, let's now put it to use: "
   ]
  },
  {
   "cell_type": "code",
   "execution_count": 5,
   "metadata": {
    "scrolled": false
   },
   "outputs": [
    {
     "name": "stdout",
     "output_type": "stream",
     "text": [
      ">>> starting: hi!\n",
      "  - host1.cmh: - hi! my name is host1.cmh\n",
      "  - host2.cmh: - hi! my name is host2.cmh\n",
      "  - spine00.cmh: - hi! my name is spine00.cmh\n",
      "  - spine01.cmh: - hi! my name is spine01.cmh\n",
      "  - leaf00.cmh: - hi! my name is leaf00.cmh\n",
      "  - leaf01.cmh: - hi! my name is leaf01.cmh\n",
      "  - host1.bma: - hi! my name is host1.bma\n",
      "  - host2.bma: - hi! my name is host2.bma\n",
      "  - spine00.bma: - hi! my name is spine00.bma\n",
      "  - spine01.bma: - hi! my name is spine01.bma\n",
      "  - leaf00.bma: - hi! my name is leaf00.bma  - leaf01.bma: - hi! my name is leaf01.bma\n",
      "\n",
      ">>> completed: hi!\n",
      ">>> starting: bye!\n",
      "  - host1.cmh: - bye! my name is host1.cmh\n",
      "  - host2.cmh: - bye! my name is host2.cmh\n",
      "  - spine00.cmh: - bye! my name is spine00.cmh\n",
      "  - spine01.cmh: - bye! my name is spine01.cmh\n",
      "  - leaf00.cmh: - bye! my name is leaf00.cmh\n",
      "  - leaf01.cmh: - bye! my name is leaf01.cmh\n",
      "  - host1.bma: - bye! my name is host1.bma\n",
      "  - host2.bma: - bye! my name is host2.bma\n",
      "  - spine00.bma: - bye! my name is spine00.bma\n",
      "  - spine01.bma: - bye! my name is spine01.bma\n",
      "  - leaf00.bma: - bye! my name is leaf00.bma  - leaf01.bma: - bye! my name is leaf01.bma\n",
      "\n",
      ">>> completed: bye!\n"
     ]
    },
    {
     "data": {
      "text/plain": [
       "AggregatedResult (bye!): {'host1.cmh': MultiResult: [Result: \"bye!\"], 'host2.cmh': MultiResult: [Result: \"bye!\"], 'spine00.cmh': MultiResult: [Result: \"bye!\"], 'spine01.cmh': MultiResult: [Result: \"bye!\"], 'leaf00.cmh': MultiResult: [Result: \"bye!\"], 'leaf01.cmh': MultiResult: [Result: \"bye!\"], 'host1.bma': MultiResult: [Result: \"bye!\"], 'host2.bma': MultiResult: [Result: \"bye!\"], 'spine00.bma': MultiResult: [Result: \"bye!\"], 'spine01.bma': MultiResult: [Result: \"bye!\"], 'leaf00.bma': MultiResult: [Result: \"bye!\"], 'leaf01.bma': MultiResult: [Result: \"bye!\"]}"
      ]
     },
     "execution_count": 5,
     "metadata": {},
     "output_type": "execute_result"
    }
   ],
   "source": [
    "# NBVAL_IGNORE_OUTPUT\n",
    "\n",
    "data = {}  # this is the dictionary where SaveResultToDict will store the information\n",
    "\n",
    "# similary to .filter, with_processors returns a copy of the nornir object but with\n",
    "# the processors assigned to it. Let's now use the method to assign both processors\n",
    "nr_with_processors = nr.with_processors([SaveResultToDict(data), PrintResult()])\n",
    "\n",
    "# now we can use nr_with_processors to execute our greeter task\n",
    "nr_with_processors.run(\n",
    "    name=\"hi!\",\n",
    "    task=greeter,\n",
    "    greet=\"hi\",\n",
    ")\n",
    "nr_with_processors.run(\n",
    "    name=\"bye!\",\n",
    "    task=greeter,\n",
    "    greet=\"bye\",\n",
    ")"
   ]
  },
  {
   "cell_type": "markdown",
   "metadata": {},
   "source": [
    "The first thing you probably noticed is that we got all those messages on screen printed for us. That was done by our processor `PrintResult`. You probably also noticed we got the `AggregatedResult` back but we didn't even bother saving it into a variable as we don't needed it here.\n",
    "\n",
    "Now, let's see if `SaveResultToDict` did something to the dictionary `data`:"
   ]
  },
  {
   "cell_type": "code",
   "execution_count": 6,
   "metadata": {},
   "outputs": [
    {
     "name": "stdout",
     "output_type": "stream",
     "text": [
      "{\n",
      "    \"hi!\": {\n",
      "        \"started\": true,\n",
      "        \"host1.cmh\": {\n",
      "            \"completed\": true,\n",
      "            \"result\": \"hi! my name is host1.cmh\"\n",
      "        },\n",
      "        \"host2.cmh\": {\n",
      "            \"completed\": true,\n",
      "            \"result\": \"hi! my name is host2.cmh\"\n",
      "        },\n",
      "        \"spine00.cmh\": {\n",
      "            \"completed\": true,\n",
      "            \"result\": \"hi! my name is spine00.cmh\"\n",
      "        },\n",
      "        \"spine01.cmh\": {\n",
      "            \"completed\": true,\n",
      "            \"result\": \"hi! my name is spine01.cmh\"\n",
      "        },\n",
      "        \"leaf00.cmh\": {\n",
      "            \"completed\": true,\n",
      "            \"result\": \"hi! my name is leaf00.cmh\"\n",
      "        },\n",
      "        \"leaf01.cmh\": {\n",
      "            \"completed\": true,\n",
      "            \"result\": \"hi! my name is leaf01.cmh\"\n",
      "        },\n",
      "        \"host1.bma\": {\n",
      "            \"completed\": true,\n",
      "            \"result\": \"hi! my name is host1.bma\"\n",
      "        },\n",
      "        \"host2.bma\": {\n",
      "            \"completed\": true,\n",
      "            \"result\": \"hi! my name is host2.bma\"\n",
      "        },\n",
      "        \"spine00.bma\": {\n",
      "            \"completed\": true,\n",
      "            \"result\": \"hi! my name is spine00.bma\"\n",
      "        },\n",
      "        \"spine01.bma\": {\n",
      "            \"completed\": true,\n",
      "            \"result\": \"hi! my name is spine01.bma\"\n",
      "        },\n",
      "        \"leaf00.bma\": {\n",
      "            \"completed\": true,\n",
      "            \"result\": \"hi! my name is leaf00.bma\"\n",
      "        },\n",
      "        \"leaf01.bma\": {\n",
      "            \"completed\": true,\n",
      "            \"result\": \"hi! my name is leaf01.bma\"\n",
      "        },\n",
      "        \"completed\": true\n",
      "    },\n",
      "    \"bye!\": {\n",
      "        \"started\": true,\n",
      "        \"host1.cmh\": {\n",
      "            \"completed\": true,\n",
      "            \"result\": \"bye! my name is host1.cmh\"\n",
      "        },\n",
      "        \"host2.cmh\": {\n",
      "            \"completed\": true,\n",
      "            \"result\": \"bye! my name is host2.cmh\"\n",
      "        },\n",
      "        \"spine00.cmh\": {\n",
      "            \"completed\": true,\n",
      "            \"result\": \"bye! my name is spine00.cmh\"\n",
      "        },\n",
      "        \"spine01.cmh\": {\n",
      "            \"completed\": true,\n",
      "            \"result\": \"bye! my name is spine01.cmh\"\n",
      "        },\n",
      "        \"leaf00.cmh\": {\n",
      "            \"completed\": true,\n",
      "            \"result\": \"bye! my name is leaf00.cmh\"\n",
      "        },\n",
      "        \"leaf01.cmh\": {\n",
      "            \"completed\": true,\n",
      "            \"result\": \"bye! my name is leaf01.cmh\"\n",
      "        },\n",
      "        \"host1.bma\": {\n",
      "            \"completed\": true,\n",
      "            \"result\": \"bye! my name is host1.bma\"\n",
      "        },\n",
      "        \"host2.bma\": {\n",
      "            \"completed\": true,\n",
      "            \"result\": \"bye! my name is host2.bma\"\n",
      "        },\n",
      "        \"spine00.bma\": {\n",
      "            \"completed\": true,\n",
      "            \"result\": \"bye! my name is spine00.bma\"\n",
      "        },\n",
      "        \"spine01.bma\": {\n",
      "            \"completed\": true,\n",
      "            \"result\": \"bye! my name is spine01.bma\"\n",
      "        },\n",
      "        \"leaf00.bma\": {\n",
      "            \"completed\": true,\n",
      "            \"result\": \"bye! my name is leaf00.bma\"\n",
      "        },\n",
      "        \"leaf01.bma\": {\n",
      "            \"completed\": true,\n",
      "            \"result\": \"bye! my name is leaf01.bma\"\n",
      "        },\n",
      "        \"completed\": true\n",
      "    }\n",
      "}\n"
     ]
    }
   ],
   "source": [
    "import json\n",
    "print(json.dumps(data, indent=4))"
   ]
  },
  {
   "cell_type": "markdown",
   "metadata": {},
   "source": [
    "As you can see, performing various actions on the results becomes quite easy thanks to the processors. You still get the result back but thanks to this plugins you may not needed them anymore.\n",
    "\n",
    "## Ideas\n",
    "\n",
    "What other things could be done with processors?\n",
    "\n",
    "1. Send events to slack/IRC/logging_system\n",
    "2. Keep the user informed of what's going on without having them to wait for the completion of all the hosts (particularly interesting if you have lots of devices)\n",
    "3. Page someone/raise an alert if a given task fails\n",
    "4. etc..."
   ]
  }
 ],
 "metadata": {
  "kernelspec": {
   "display_name": "Python 3",
   "language": "python",
   "name": "python3"
  },
  "language_info": {
   "codemirror_mode": {
    "name": "ipython",
    "version": 3
   },
   "file_extension": ".py",
   "mimetype": "text/x-python",
   "name": "python",
   "nbconvert_exporter": "python",
   "pygments_lexer": "ipython3",
   "version": "3.9.7"
  }
 },
 "nbformat": 4,
 "nbformat_minor": 2
}
